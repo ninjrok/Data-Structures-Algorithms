{
 "cells": [
  {
   "cell_type": "markdown",
   "metadata": {},
   "source": [
    "## Tree Definition"
   ]
  },
  {
   "cell_type": "code",
   "execution_count": 1,
   "metadata": {},
   "outputs": [],
   "source": [
    "class Node:\n",
    "    def __init__(self, data, left=None, right=None):\n",
    "        self.data = data\n",
    "        self.left = left\n",
    "        self.right = right"
   ]
  },
  {
   "cell_type": "code",
   "execution_count": 2,
   "metadata": {},
   "outputs": [],
   "source": [
    "class Tree:\n",
    "    def __init__(self, root=None):\n",
    "        self.root = root\n",
    "        \n",
    "    def insert(self, root, arr, i):\n",
    "        if i < len(arr) and arr[i]:\n",
    "            root = Node(data=arr[i])\n",
    "            root.left = self.insert(root.left, arr, 2*i+1)\n",
    "            root.right = self.insert(root.right, arr, 2*i+2)\n",
    "            \n",
    "        return root"
   ]
  },
  {
   "cell_type": "code",
   "execution_count": 3,
   "metadata": {},
   "outputs": [],
   "source": [
    "tree = Tree()\n",
    "tree.root = tree.insert(tree.root, [7,3,15,None,None,9,20], 0)"
   ]
  },
  {
   "cell_type": "markdown",
   "metadata": {},
   "source": [
    "## Level Order Traversal"
   ]
  },
  {
   "cell_type": "code",
   "execution_count": 4,
   "metadata": {},
   "outputs": [],
   "source": [
    "class Queue:\n",
    "    def __init__(self):\n",
    "        self.array = []\n",
    "        \n",
    "    def is_empty(self):\n",
    "        return (True if len(self.array) == 0 else False)\n",
    "    \n",
    "    def enqueue(self, x):\n",
    "        self.array.append(x)\n",
    "        \n",
    "    def dequeue(self):\n",
    "        if self.is_empty():\n",
    "            return None\n",
    "        \n",
    "        data = self.array[0]\n",
    "        del self.array[0]\n",
    "        \n",
    "        return data"
   ]
  },
  {
   "cell_type": "code",
   "execution_count": 5,
   "metadata": {},
   "outputs": [],
   "source": [
    "def level_order(root):\n",
    "    if not root:\n",
    "        return None\n",
    "    \n",
    "    q = Queue()\n",
    "    q.enqueue(root)\n",
    "    \n",
    "    while not q.is_empty():\n",
    "        temp = q.dequeue()\n",
    "        print(temp.data, end=' ')\n",
    "        if temp.left:\n",
    "            q.enqueue(temp.left)\n",
    "        if temp.right:\n",
    "            q.enqueue(temp.right)    "
   ]
  },
  {
   "cell_type": "code",
   "execution_count": 6,
   "metadata": {},
   "outputs": [
    {
     "name": "stdout",
     "output_type": "stream",
     "text": [
      "7 3 15 9 20 "
     ]
    }
   ],
   "source": [
    "level_order(tree.root)"
   ]
  },
  {
   "cell_type": "markdown",
   "metadata": {},
   "source": [
    "### Dynamic Programming - Type A"
   ]
  },
  {
   "cell_type": "markdown",
   "metadata": {},
   "source": [
    "#### Example: Find maximum sequence sum of nodes(root to leaf) in a binary tree "
   ]
  },
  {
   "cell_type": "code",
   "execution_count": 7,
   "metadata": {},
   "outputs": [],
   "source": [
    "def solution_a(root):\n",
    "    if not root:\n",
    "        return 0\n",
    "    \n",
    "    return root.data + max(solution_a(root.left), solution_a(root.right))"
   ]
  },
  {
   "cell_type": "code",
   "execution_count": 8,
   "metadata": {},
   "outputs": [
    {
     "data": {
      "text/plain": [
       "42"
      ]
     },
     "execution_count": 8,
     "metadata": {},
     "output_type": "execute_result"
    }
   ],
   "source": [
    "solution_a(tree.root)"
   ]
  },
  {
   "cell_type": "markdown",
   "metadata": {},
   "source": [
    "Intuition: Find solutions and the bottom(leaf nodes) and build up to root. Recursive stack traverses tree in a <b>depth first</b> manner."
   ]
  },
  {
   "cell_type": "markdown",
   "metadata": {},
   "source": [
    "### Dynamic Programming - Type B"
   ]
  },
  {
   "cell_type": "markdown",
   "metadata": {},
   "source": [
    "* Also called IN-OUT DP. The IN part is similar to type A.\n",
    "* Uses two arrays IN and OUT.\n",
    "\n",
    "<b>Example: For a given binary tree, what is the height of the tree given that a node i in the tree is the root. </b>\n",
    "\n",
    "<img src='tree.png'></img>\n",
    "\n",
    "IN[U] = 1 + max(IN[V])"
   ]
  },
  {
   "cell_type": "code",
   "execution_count": null,
   "metadata": {},
   "outputs": [],
   "source": [
    "\n"
   ]
  }
 ],
 "metadata": {
  "kernelspec": {
   "display_name": "Python 3",
   "language": "python",
   "name": "python3"
  },
  "language_info": {
   "codemirror_mode": {
    "name": "ipython",
    "version": 3
   },
   "file_extension": ".py",
   "mimetype": "text/x-python",
   "name": "python",
   "nbconvert_exporter": "python",
   "pygments_lexer": "ipython3",
   "version": "3.6.7"
  }
 },
 "nbformat": 4,
 "nbformat_minor": 2
}
