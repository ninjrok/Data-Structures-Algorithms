{
 "cells": [
  {
   "cell_type": "markdown",
   "metadata": {},
   "source": [
    "# Disjoint Sets using union by rank and path compression"
   ]
  },
  {
   "cell_type": "markdown",
   "metadata": {},
   "source": [
    "Supports 3 operations:-\n",
    "\n",
    "* make_set: Creates a disjoint set\n",
    "* union: Combines two sets\n",
    "* find_set: Finds the representative of the set"
   ]
  },
  {
   "cell_type": "code",
   "execution_count": 1,
   "metadata": {},
   "outputs": [],
   "source": [
    "class Node:\n",
    "    def __init__(self, data, parent=None, rank=0):\n",
    "        self.data = data\n",
    "        self.parent = parent\n",
    "        self.rank = rank"
   ]
  },
  {
   "cell_type": "code",
   "execution_count": 2,
   "metadata": {},
   "outputs": [],
   "source": [
    "class DisjointSet:\n",
    "    def __init__(self):\n",
    "        self.map = {}\n",
    "        \n",
    "    def print_set(self):\n",
    "        for k, v in self.map.items():\n",
    "            print('Parent of Node:', k, 'is', v.parent.data)\n",
    "    \n",
    "    def make_set(self, data):\n",
    "        node = Node(data=data)\n",
    "        node.parent = node\n",
    "        self.map[data] = node\n",
    "        \n",
    "    def find_set(self, node):\n",
    "        parent = node.parent\n",
    "        if parent == node:\n",
    "            return parent\n",
    "        \n",
    "        node.parent = self.find_set(parent)\n",
    "        return node.parent\n",
    "        \n",
    "    def union(self, data1, data2):\n",
    "        node1 = self.map[data1]\n",
    "        node2 = self.map[data2]\n",
    "        \n",
    "        parent1 = self.find_set(node1)\n",
    "        parent2 = self.find_set(node2)\n",
    "        \n",
    "        if parent1.data == parent2.data:\n",
    "            return False\n",
    "        \n",
    "        if parent1.rank >= parent2.rank:\n",
    "            parent1.rank = (parent1.rank+1 if parent1.rank == parent2.rank else parent1.rank)\n",
    "            parent2.parent = parent1\n",
    "        else:\n",
    "            parent1.parent = parent2\n",
    "            \n",
    "        return True"
   ]
  },
  {
   "cell_type": "code",
   "execution_count": 3,
   "metadata": {},
   "outputs": [
    {
     "name": "stdout",
     "output_type": "stream",
     "text": [
      "Parent of Node: 1 is 4\n",
      "Parent of Node: 2 is 1\n",
      "Parent of Node: 3 is 1\n",
      "Parent of Node: 4 is 4\n",
      "Parent of Node: 5 is 4\n",
      "Parent of Node: 6 is 4\n",
      "Parent of Node: 7 is 4\n"
     ]
    }
   ],
   "source": [
    "ds = DisjointSet()\n",
    "\n",
    "ds.make_set(1)\n",
    "ds.make_set(2)\n",
    "ds.make_set(3)\n",
    "ds.make_set(4)\n",
    "ds.make_set(5)\n",
    "ds.make_set(6)\n",
    "ds.make_set(7)\n",
    "\n",
    "ds.union(1, 2)\n",
    "ds.union(2, 3)\n",
    "ds.union(4, 5)\n",
    "ds.union(6, 7)\n",
    "ds.union(5, 6)\n",
    "ds.union(3, 7)\n",
    "\n",
    "ds.print_set()"
   ]
  },
  {
   "cell_type": "markdown",
   "metadata": {},
   "source": [
    "Note here that the parent of 2 and 3 is 1. But, the parent of 1 is 4. Which implies that path compression has not occurred on these nodes yet. Below, we apply find_set() on nodes 2 and 3 which applies path compression and updates the nodes parent to 4."
   ]
  },
  {
   "cell_type": "code",
   "execution_count": 4,
   "metadata": {},
   "outputs": [
    {
     "name": "stdout",
     "output_type": "stream",
     "text": [
      "Parent of Node: 1 is 4\n",
      "Parent of Node: 2 is 4\n",
      "Parent of Node: 3 is 4\n",
      "Parent of Node: 4 is 4\n",
      "Parent of Node: 5 is 4\n",
      "Parent of Node: 6 is 4\n",
      "Parent of Node: 7 is 4\n"
     ]
    }
   ],
   "source": [
    "# find_set of nodes which will apply path compression\n",
    "ds.find_set(ds.map[2])\n",
    "ds.find_set(ds.map[3])\n",
    "\n",
    "# print the set\n",
    "ds.print_set()"
   ]
  }
 ],
 "metadata": {
  "kernelspec": {
   "display_name": "Python 3",
   "language": "python",
   "name": "python3"
  },
  "language_info": {
   "codemirror_mode": {
    "name": "ipython",
    "version": 3
   },
   "file_extension": ".py",
   "mimetype": "text/x-python",
   "name": "python",
   "nbconvert_exporter": "python",
   "pygments_lexer": "ipython3",
   "version": "3.6.7"
  }
 },
 "nbformat": 4,
 "nbformat_minor": 2
}
