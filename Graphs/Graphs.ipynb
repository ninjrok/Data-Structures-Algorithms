{
 "cells": [
  {
   "cell_type": "markdown",
   "metadata": {},
   "source": [
    "# Graph Implementation"
   ]
  },
  {
   "cell_type": "markdown",
   "metadata": {},
   "source": [
    "## Vertex Class"
   ]
  },
  {
   "cell_type": "code",
   "execution_count": 1,
   "metadata": {},
   "outputs": [],
   "source": [
    "class Vertex:\n",
    "    def __init__(self, key):\n",
    "        self.id = key\n",
    "        self.neighbors = {}\n",
    "        \n",
    "    def add_neighbor(self, nbr, weight=0):\n",
    "        self.neighbors[nbr] = weight\n",
    "        \n",
    "    def __str__(self):\n",
    "        return '{} is connected to: {}'.format(self.id, [(k.id, v) for k,v in self.neighbors.items()])"
   ]
  },
  {
   "cell_type": "markdown",
   "metadata": {},
   "source": [
    "## Graph Class"
   ]
  },
  {
   "cell_type": "code",
   "execution_count": 2,
   "metadata": {},
   "outputs": [],
   "source": [
    "class Graph:\n",
    "    def __init__(self):\n",
    "        self.vertices = {}\n",
    "        self.count = 0\n",
    "        \n",
    "    def add_vertex(self, key):\n",
    "        self.count += 1\n",
    "        self.vertices[key] = Vertex(key=key)\n",
    "        \n",
    "    def get_vertex(self, vertex):\n",
    "        return (self.vertices[vertex] if vertex in self.vertices else None)\n",
    "    \n",
    "    def add_edge(self, v1, v2, weight=0):\n",
    "        if v1 not in self.vertices:\n",
    "            self.add_vertex(v1)\n",
    "        if v2 not in self.vertices:\n",
    "            self.add_vertex(v2)\n",
    "            \n",
    "        self.vertices[v1].add_neighbor(self.vertices[v2], weight)"
   ]
  },
  {
   "cell_type": "markdown",
   "metadata": {},
   "source": [
    "## Declare Graph Object"
   ]
  },
  {
   "cell_type": "code",
   "execution_count": 3,
   "metadata": {},
   "outputs": [],
   "source": [
    "g = Graph()"
   ]
  },
  {
   "cell_type": "code",
   "execution_count": 4,
   "metadata": {},
   "outputs": [],
   "source": [
    "g.add_vertex(key='a')\n",
    "g.add_vertex(key='b')\n",
    "g.add_vertex(key='c')\n",
    "g.add_vertex(key='d')\n",
    "g.add_vertex(key='e')\n",
    "g.add_vertex(key='f')"
   ]
  },
  {
   "cell_type": "code",
   "execution_count": 5,
   "metadata": {},
   "outputs": [
    {
     "name": "stdout",
     "output_type": "stream",
     "text": [
      "a is connected to: []\n",
      "b is connected to: []\n",
      "c is connected to: []\n",
      "d is connected to: []\n",
      "e is connected to: []\n",
      "f is connected to: []\n"
     ]
    }
   ],
   "source": [
    "for vertex in g.vertices.values():\n",
    "    print(vertex)"
   ]
  },
  {
   "cell_type": "code",
   "execution_count": 6,
   "metadata": {},
   "outputs": [],
   "source": [
    "g.add_edge('a', 'b', weight=5)\n",
    "g.add_edge('b', 'c', weight=4)\n",
    "g.add_edge('d', 'e', weight=3)\n",
    "g.add_edge('e', 'f', weight=6)\n",
    "g.add_edge('a', 'f', weight=6)\n",
    "g.add_edge('c', 'b', weight=6)\n",
    "g.add_edge('f', 'a', weight=2)"
   ]
  },
  {
   "cell_type": "code",
   "execution_count": 7,
   "metadata": {},
   "outputs": [
    {
     "name": "stdout",
     "output_type": "stream",
     "text": [
      "a is connected to: [('b', 5), ('f', 6)]\n",
      "b is connected to: [('c', 4)]\n",
      "c is connected to: [('b', 6)]\n",
      "d is connected to: [('e', 3)]\n",
      "e is connected to: [('f', 6)]\n",
      "f is connected to: [('a', 2)]\n"
     ]
    }
   ],
   "source": [
    "for vertex in g.vertices.values():\n",
    "    print(vertex)"
   ]
  }
 ],
 "metadata": {
  "kernelspec": {
   "display_name": "Python 3",
   "language": "python",
   "name": "python3"
  },
  "language_info": {
   "codemirror_mode": {
    "name": "ipython",
    "version": 3
   },
   "file_extension": ".py",
   "mimetype": "text/x-python",
   "name": "python",
   "nbconvert_exporter": "python",
   "pygments_lexer": "ipython3",
   "version": "3.6.7"
  }
 },
 "nbformat": 4,
 "nbformat_minor": 2
}
