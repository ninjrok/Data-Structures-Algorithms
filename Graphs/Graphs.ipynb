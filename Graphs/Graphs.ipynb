{
 "cells": [
  {
   "cell_type": "markdown",
   "metadata": {},
   "source": [
    "# Graph Implementation"
   ]
  },
  {
   "cell_type": "markdown",
   "metadata": {},
   "source": [
    "## Vertex Class"
   ]
  },
  {
   "cell_type": "code",
   "execution_count": 1,
   "metadata": {},
   "outputs": [],
   "source": [
    "class Vertex:\n",
    "    def __init__(self, key):\n",
    "        self.id = key\n",
    "        self.neighbors = {}\n",
    "        \n",
    "    def __str__(self):\n",
    "        return '{} is connected to: {}'.format(self.id, [(k.id, v) for k,v in self.neighbors.items()])\n",
    "        \n",
    "    def add_neighbor(self, nbr, weight=0):\n",
    "        self.neighbors[nbr] = weight\n",
    "    \n",
    "    def neighbors(self):\n",
    "        return [(k, v) for k, v in self.neighbors.items()]"
   ]
  },
  {
   "cell_type": "markdown",
   "metadata": {},
   "source": [
    "## Graph Class"
   ]
  },
  {
   "cell_type": "code",
   "execution_count": 2,
   "metadata": {},
   "outputs": [],
   "source": [
    "class Graph:\n",
    "    def __init__(self):\n",
    "        self.vertices = {}\n",
    "        self.count = 0\n",
    "        \n",
    "    def __str__(self):\n",
    "        return 'Graph starting at \\'{}\\' with {} vertices'.format(next(iter(self.vertices)), self.count)\n",
    "        \n",
    "    def add_vertex(self, key):\n",
    "        self.count += 1\n",
    "        self.vertices[key] = Vertex(key=key)\n",
    "        \n",
    "    def get_vertex(self, vertex):\n",
    "        return (self.vertices[vertex] if vertex in self.vertices else None)\n",
    "    \n",
    "    def add_edge(self, v1, v2, weight=0):\n",
    "        if v1 not in self.vertices:\n",
    "            self.add_vertex(v1)\n",
    "        if v2 not in self.vertices:\n",
    "            self.add_vertex(v2)\n",
    "            \n",
    "        self.vertices[v1].add_neighbor(self.vertices[v2], weight)"
   ]
  },
  {
   "cell_type": "markdown",
   "metadata": {},
   "source": [
    "## Create Graph"
   ]
  },
  {
   "cell_type": "code",
   "execution_count": 3,
   "metadata": {},
   "outputs": [],
   "source": [
    "g = Graph()\n",
    "\n",
    "g.add_vertex(key='a')\n",
    "g.add_vertex(key='b')\n",
    "g.add_vertex(key='c')\n",
    "g.add_vertex(key='d')\n",
    "g.add_vertex(key='e')\n",
    "g.add_vertex(key='f')\n",
    "g.add_vertex(key='g')\n",
    "g.add_vertex(key='h')\n",
    "\n",
    "g.add_edge('a', 'b', weight=5)\n",
    "g.add_edge('b', 'c', weight=4)\n",
    "g.add_edge('c', 'd', weight=3)\n",
    "g.add_edge('d', 'e', weight=3)\n",
    "g.add_edge('e', 'f', weight=6)\n",
    "g.add_edge('a', 'f', weight=6)\n",
    "g.add_edge('c', 'b', weight=6)\n",
    "g.add_edge('f', 'a', weight=2)\n",
    "g.add_edge('b', 'g', weight=7)\n",
    "g.add_edge('g', 'h', weight=9)\n",
    "g.add_edge('h', 'c', weight=11)"
   ]
  },
  {
   "cell_type": "code",
   "execution_count": 4,
   "metadata": {},
   "outputs": [
    {
     "name": "stdout",
     "output_type": "stream",
     "text": [
      "a is connected to: [('b', 5), ('f', 6)]\n",
      "b is connected to: [('c', 4), ('g', 7)]\n",
      "c is connected to: [('d', 3), ('b', 6)]\n",
      "d is connected to: [('e', 3)]\n",
      "e is connected to: [('f', 6)]\n",
      "f is connected to: [('a', 2)]\n",
      "g is connected to: [('h', 9)]\n",
      "h is connected to: [('c', 11)]\n"
     ]
    }
   ],
   "source": [
    "for vertex in g.vertices.values():\n",
    "    print(vertex)"
   ]
  },
  {
   "cell_type": "markdown",
   "metadata": {},
   "source": [
    "## Traversals"
   ]
  },
  {
   "cell_type": "markdown",
   "metadata": {},
   "source": [
    "### Depth First Traversal\n",
    "\n",
    "Uses stacks."
   ]
  },
  {
   "cell_type": "code",
   "execution_count": 5,
   "metadata": {},
   "outputs": [],
   "source": [
    "class Stack:\n",
    "    def __init__(self):\n",
    "        self.arr = []\n",
    "        \n",
    "    def is_empty(self):\n",
    "        return (True if len(self.arr) == 0 else False)\n",
    "    \n",
    "    def push(self, x):\n",
    "        self.arr.append(x)\n",
    "        \n",
    "    def pop(self):\n",
    "        return (None if self.is_empty() else self.arr.pop())"
   ]
  },
  {
   "cell_type": "code",
   "execution_count": 6,
   "metadata": {},
   "outputs": [],
   "source": [
    "def dft(root):\n",
    "    stack = Stack()\n",
    "    visited = []\n",
    "    stack.push(root)\n",
    "    dft = []\n",
    "    \n",
    "    while not stack.is_empty():\n",
    "        node = stack.pop()\n",
    "        dft.append(node)\n",
    "        visited.append(node)\n",
    "        for nbr in node.neighbors.keys():\n",
    "            if nbr not in visited:\n",
    "                visited.append(nbr)\n",
    "                stack.push(nbr)\n",
    "                \n",
    "    return dft"
   ]
  },
  {
   "cell_type": "code",
   "execution_count": 7,
   "metadata": {},
   "outputs": [
    {
     "name": "stdout",
     "output_type": "stream",
     "text": [
      "Depth First Traversal of Graph starting at 'a' with 8 vertices: ['a', 'f', 'b', 'g', 'h', 'c', 'd', 'e'] "
     ]
    }
   ],
   "source": [
    "print('Depth First Traversal of {}: {}'.format(g, [i.id for i in dft(g.vertices['a'])]), end=' ')"
   ]
  },
  {
   "cell_type": "markdown",
   "metadata": {},
   "source": [
    "### Breadth First Traversal\n",
    "\n",
    "Uses queues."
   ]
  },
  {
   "cell_type": "code",
   "execution_count": 8,
   "metadata": {},
   "outputs": [],
   "source": [
    "class Queue:\n",
    "    def __init__(self):\n",
    "        self.arr = []\n",
    "        \n",
    "    def is_empty(self):\n",
    "        return (True if len(self.arr) == 0 else False)\n",
    "    \n",
    "    def enqueue(self, x):\n",
    "        self.arr.append(x)\n",
    "        \n",
    "    def dequeue(self):\n",
    "        data = self.arr[0]\n",
    "        del self.arr[0]\n",
    "        return data"
   ]
  },
  {
   "cell_type": "code",
   "execution_count": 9,
   "metadata": {},
   "outputs": [],
   "source": [
    "def bft(root):\n",
    "    queue = Queue()\n",
    "    visited = []\n",
    "    queue.enqueue(root)\n",
    "    bft = []\n",
    "    \n",
    "    while not queue.is_empty():\n",
    "        node = queue.dequeue()\n",
    "        bft.append(node)\n",
    "        visited.append(node)\n",
    "        \n",
    "        for nbr in node.neighbors.keys():\n",
    "            if nbr not in visited:\n",
    "                visited.append(nbr)\n",
    "                queue.enqueue(nbr)\n",
    "                \n",
    "    return bft"
   ]
  },
  {
   "cell_type": "code",
   "execution_count": 10,
   "metadata": {},
   "outputs": [
    {
     "name": "stdout",
     "output_type": "stream",
     "text": [
      "Breadth First Traversal of Graph starting at 'a' with 8 vertices: ['a', 'b', 'f', 'c', 'g', 'd', 'h', 'e'] "
     ]
    }
   ],
   "source": [
    "print('Breadth First Traversal of {}: {}'.format(g, [i.id for i in bft(g.vertices['a'])]), end=' ')"
   ]
  },
  {
   "cell_type": "markdown",
   "metadata": {},
   "source": [
    "## Topological Sort"
   ]
  },
  {
   "cell_type": "code",
   "execution_count": 11,
   "metadata": {},
   "outputs": [],
   "source": [
    "class TopSort:\n",
    "    def __init__(self, graph):\n",
    "        self.graph = graph\n",
    "        self.visited = []\n",
    "        self.stack = Stack()\n",
    "        \n",
    "    def top_sort(self, vertex, visited, stack):\n",
    "        if vertex in visited:\n",
    "            return\n",
    "        visited.append(vertex)\n",
    "        for neighbor in vertex.neighbors.keys():\n",
    "            self.top_sort(neighbor, visited=visited, stack=stack)\n",
    "        stack.push(vertex)\n",
    "        \n",
    "    def sort(self):\n",
    "        for vertex in self.graph.vertices.values():\n",
    "            self.top_sort(vertex, visited=self.visited, stack=self.stack)\n",
    "            \n",
    "        while not self.stack.is_empty():\n",
    "            top = self.stack.pop()\n",
    "            print(top.id, end=', ')"
   ]
  },
  {
   "cell_type": "code",
   "execution_count": 12,
   "metadata": {},
   "outputs": [
    {
     "name": "stdout",
     "output_type": "stream",
     "text": [
      "Topologically sorted Graph starting at 'a' with 8 vertices: a, b, g, h, c, d, e, f, "
     ]
    }
   ],
   "source": [
    "top_sort = TopSort(graph=g)\n",
    "print('Topologically sorted {}:'.format(g), end=' ')\n",
    "top_sort.sort()"
   ]
  },
  {
   "cell_type": "markdown",
   "metadata": {},
   "source": [
    "## Create an unweighted graph"
   ]
  },
  {
   "cell_type": "code",
   "execution_count": 13,
   "metadata": {},
   "outputs": [],
   "source": [
    "graph = Graph()\n",
    "\n",
    "graph.add_vertex(key=5)\n",
    "graph.add_vertex(key=11)\n",
    "graph.add_vertex(key=2)\n",
    "graph.add_vertex(key=7)\n",
    "graph.add_vertex(key=8)\n",
    "graph.add_vertex(key=9)\n",
    "graph.add_vertex(key=3)\n",
    "graph.add_vertex(key=10)\n",
    "\n",
    "graph.add_edge(5, 11)\n",
    "graph.add_edge(11, 2)\n",
    "graph.add_edge(7, 11)\n",
    "graph.add_edge(7, 8)\n",
    "graph.add_edge(8, 9)\n",
    "graph.add_edge(3, 8)\n",
    "graph.add_edge(3, 10)\n",
    "graph.add_edge(11, 9)\n",
    "graph.add_edge(11, 10)\n",
    "graph.add_edge(2, 9)\n",
    "graph.add_edge(5, 7)\n",
    "graph.add_edge(7, 3)"
   ]
  },
  {
   "cell_type": "code",
   "execution_count": 14,
   "metadata": {},
   "outputs": [
    {
     "name": "stdout",
     "output_type": "stream",
     "text": [
      "DFT: [5, 7, 3, 10, 8, 9, 11, 2] "
     ]
    }
   ],
   "source": [
    "print('DFT: {}'.format([i.id for i in dft(graph.vertices[5])]), end=' ')"
   ]
  },
  {
   "cell_type": "code",
   "execution_count": 15,
   "metadata": {},
   "outputs": [
    {
     "name": "stdout",
     "output_type": "stream",
     "text": [
      "BFT: [5, 11, 7, 2, 9, 10, 8, 3] "
     ]
    }
   ],
   "source": [
    "print('BFT: {}'.format([i.id for i in bft(graph.vertices[5])]), end=' ')"
   ]
  },
  {
   "cell_type": "code",
   "execution_count": 16,
   "metadata": {},
   "outputs": [
    {
     "name": "stdout",
     "output_type": "stream",
     "text": [
      "Topologically sorted Graph starting at '5' with 8 vertices: 5, 7, 3, 8, 11, 10, 2, 9, "
     ]
    }
   ],
   "source": [
    "top_sort_example = TopSort(graph=graph)\n",
    "print('Topologically sorted {}:'.format(graph), end=' ')\n",
    "top_sort_example.sort()"
   ]
  },
  {
   "cell_type": "markdown",
   "metadata": {},
   "source": [
    "## Dijkstra's Algorithm"
   ]
  },
  {
   "cell_type": "markdown",
   "metadata": {},
   "source": [
    "Priority Queue implementation based on binary minheap."
   ]
  },
  {
   "cell_type": "code",
   "execution_count": 17,
   "metadata": {},
   "outputs": [],
   "source": [
    "class Node:\n",
    "    def __init__(self, key, value):\n",
    "        self.key = key\n",
    "        self.value = value"
   ]
  },
  {
   "cell_type": "code",
   "execution_count": 18,
   "metadata": {},
   "outputs": [],
   "source": [
    "class MinHeap:\n",
    "    def __init__(self):\n",
    "        self.arr = []\n",
    "        \n",
    "    def is_empty(self):\n",
    "        return (True if len(self.arr) == 0 else False)\n",
    "    \n",
    "    def in_heap(self, vertex):\n",
    "        for node in self.arr:\n",
    "            if vertex == node.key:\n",
    "                return node.value\n",
    "        return False\n",
    " \n",
    "    def percolate_down(self, i):\n",
    "        l = (2*i+1 if 2*i+1 < len(self.arr) else None)\n",
    "        r = (2*i+2 if 2*i+2 < len(self.arr) else None)\n",
    "        \n",
    "        if l and self.arr[l].value < self.arr[i].value:\n",
    "            min_ = l\n",
    "        else:\n",
    "            min_ = i\n",
    "        if r and self.arr[r].value < self.arr[min_].value:\n",
    "            min_ = r\n",
    "            \n",
    "        if min_ != i:\n",
    "            self.arr[i], self.arr[min_] = self.arr[min_], self.arr[i]\n",
    "            self.percolate_down(min_)\n",
    "            \n",
    "    def delete_min(self):\n",
    "        if self.is_empty():\n",
    "            return None\n",
    "        \n",
    "        min_ = self.arr[0]\n",
    "        self.arr[0] = self.arr[-1]\n",
    "        del self.arr[-1]\n",
    "        self.percolate_down(0)\n",
    "        \n",
    "        return min_\n",
    "            \n",
    "    def build_heap(self, arr):\n",
    "        self.arr = arr\n",
    "        i = (len(self.arr) - 1) // 2\n",
    "        while i >= 0:\n",
    "            self.percolate_down(i)\n",
    "            i -= 1"
   ]
  },
  {
   "cell_type": "code",
   "execution_count": 19,
   "metadata": {},
   "outputs": [],
   "source": [
    "min_heap = MinHeap()\n",
    "\n",
    "dft_g = bft(g.vertices['a'])\n",
    "arr = []\n",
    "\n",
    "for node in dft_g:\n",
    "    arr.append(Node(key=node, value=float('inf')))\n",
    "\n",
    "arr[0].value = 0    \n",
    "min_heap.build_heap(arr)"
   ]
  },
  {
   "cell_type": "code",
   "execution_count": 20,
   "metadata": {},
   "outputs": [
    {
     "name": "stdout",
     "output_type": "stream",
     "text": [
      "-5\n",
      "-6\n"
     ]
    }
   ],
   "source": [
    "while not min_heap.is_empty():\n",
    "    u = min_heap.delete_min()\n",
    "    for v, distance in u.key.neighbors.items():\n",
    "        heap_distance = min_heap.in_heap(v)\n",
    "        if heap_distance and heap_distance > (u.value + (u.value - distance)):\n",
    "            print(u.value + (u.value - distance))\n",
    "            u.key.neighbors[v] = u.value + (u.value - distance)"
   ]
  },
  {
   "cell_type": "code",
   "execution_count": 21,
   "metadata": {},
   "outputs": [
    {
     "name": "stdout",
     "output_type": "stream",
     "text": [
      "a is connected to: [('b', -5), ('f', -6)]\n",
      "f is connected to: [('a', 2)]\n",
      "b is connected to: [('c', 4), ('g', 7)]\n",
      "g is connected to: [('h', 9)]\n",
      "h is connected to: [('c', 11)]\n",
      "c is connected to: [('d', 3), ('b', 6)]\n",
      "d is connected to: [('e', 3)]\n",
      "e is connected to: [('f', 6)]\n"
     ]
    }
   ],
   "source": [
    "for vertex in dft(g.vertices['a']):\n",
    "    print(vertex)"
   ]
  },
  {
   "cell_type": "code",
   "execution_count": null,
   "metadata": {},
   "outputs": [],
   "source": []
  }
 ],
 "metadata": {
  "kernelspec": {
   "display_name": "Python 3",
   "language": "python",
   "name": "python3"
  },
  "language_info": {
   "codemirror_mode": {
    "name": "ipython",
    "version": 3
   },
   "file_extension": ".py",
   "mimetype": "text/x-python",
   "name": "python",
   "nbconvert_exporter": "python",
   "pygments_lexer": "ipython3",
   "version": "3.6.7"
  }
 },
 "nbformat": 4,
 "nbformat_minor": 2
}
