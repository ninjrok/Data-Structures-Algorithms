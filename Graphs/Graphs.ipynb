{
 "cells": [
  {
   "cell_type": "markdown",
   "metadata": {},
   "source": [
    "# Graph Implementation"
   ]
  },
  {
   "cell_type": "markdown",
   "metadata": {},
   "source": [
    "## Vertex Class"
   ]
  },
  {
   "cell_type": "code",
   "execution_count": 1,
   "metadata": {},
   "outputs": [],
   "source": [
    "class Vertex:\n",
    "    def __init__(self, key):\n",
    "        self.id = key\n",
    "        self.neighbors = {}\n",
    "        \n",
    "    def add_neighbor(self, nbr, weight=0):\n",
    "        self.neighbors[nbr] = weight\n",
    "        \n",
    "    def __str__(self):\n",
    "        return '{} is connected to: {}'.format(self.id, [(k.id, v) for k,v in self.neighbors.items()])\n",
    "    \n",
    "    def neighbors(self):\n",
    "        return [(k, v) for k, v in self.neighbors.items()]"
   ]
  },
  {
   "cell_type": "markdown",
   "metadata": {},
   "source": [
    "## Graph Class"
   ]
  },
  {
   "cell_type": "code",
   "execution_count": 2,
   "metadata": {},
   "outputs": [],
   "source": [
    "class Graph:\n",
    "    def __init__(self):\n",
    "        self.vertices = {}\n",
    "        self.count = 0\n",
    "        \n",
    "    def add_vertex(self, key):\n",
    "        self.count += 1\n",
    "        self.vertices[key] = Vertex(key=key)\n",
    "        \n",
    "    def get_vertex(self, vertex):\n",
    "        return (self.vertices[vertex] if vertex in self.vertices else None)\n",
    "    \n",
    "    def add_edge(self, v1, v2, weight=0):\n",
    "        if v1 not in self.vertices:\n",
    "            self.add_vertex(v1)\n",
    "        if v2 not in self.vertices:\n",
    "            self.add_vertex(v2)\n",
    "            \n",
    "        self.vertices[v1].add_neighbor(self.vertices[v2], weight)"
   ]
  },
  {
   "cell_type": "markdown",
   "metadata": {},
   "source": [
    "## Declare Graph Object"
   ]
  },
  {
   "cell_type": "code",
   "execution_count": 3,
   "metadata": {},
   "outputs": [],
   "source": [
    "g = Graph()"
   ]
  },
  {
   "cell_type": "code",
   "execution_count": 4,
   "metadata": {},
   "outputs": [],
   "source": [
    "g.add_vertex(key='a')\n",
    "g.add_vertex(key='b')\n",
    "g.add_vertex(key='c')\n",
    "g.add_vertex(key='d')\n",
    "g.add_vertex(key='e')\n",
    "g.add_vertex(key='f')"
   ]
  },
  {
   "cell_type": "code",
   "execution_count": 5,
   "metadata": {},
   "outputs": [
    {
     "name": "stdout",
     "output_type": "stream",
     "text": [
      "a is connected to: []\n",
      "b is connected to: []\n",
      "c is connected to: []\n",
      "d is connected to: []\n",
      "e is connected to: []\n",
      "f is connected to: []\n"
     ]
    }
   ],
   "source": [
    "for vertex in g.vertices.values():\n",
    "    print(vertex)"
   ]
  },
  {
   "cell_type": "code",
   "execution_count": 6,
   "metadata": {},
   "outputs": [],
   "source": [
    "g.add_edge('a', 'b', weight=5)\n",
    "g.add_edge('b', 'c', weight=4)\n",
    "g.add_edge('c', 'd', weight=3)\n",
    "g.add_edge('d', 'e', weight=3)\n",
    "g.add_edge('e', 'f', weight=6)\n",
    "g.add_edge('a', 'f', weight=6)\n",
    "g.add_edge('c', 'b', weight=6)\n",
    "g.add_edge('f', 'a', weight=2)"
   ]
  },
  {
   "cell_type": "code",
   "execution_count": 7,
   "metadata": {},
   "outputs": [
    {
     "name": "stdout",
     "output_type": "stream",
     "text": [
      "a is connected to: [('b', 5), ('f', 6)]\n",
      "b is connected to: [('c', 4)]\n",
      "c is connected to: [('d', 3), ('b', 6)]\n",
      "d is connected to: [('e', 3)]\n",
      "e is connected to: [('f', 6)]\n",
      "f is connected to: [('a', 2)]\n"
     ]
    }
   ],
   "source": [
    "for vertex in g.vertices.values():\n",
    "    print(vertex)"
   ]
  },
  {
   "cell_type": "markdown",
   "metadata": {},
   "source": [
    "## Topological Sort"
   ]
  },
  {
   "cell_type": "markdown",
   "metadata": {},
   "source": [
    "Stack implementation for storing the topologically sorted graph."
   ]
  },
  {
   "cell_type": "code",
   "execution_count": 8,
   "metadata": {},
   "outputs": [],
   "source": [
    "class Stack:\n",
    "    def __init__(self):\n",
    "        self.arr = []\n",
    "        \n",
    "    def is_empty(self):\n",
    "        return (True if len(self.arr) == 0 else False)\n",
    "    \n",
    "    def push(self, x):\n",
    "        self.arr.append(x)\n",
    "        \n",
    "    def pop(self):\n",
    "        return (None if self.is_empty() else self.arr.pop())"
   ]
  },
  {
   "cell_type": "code",
   "execution_count": 9,
   "metadata": {},
   "outputs": [],
   "source": [
    "class TopSort:\n",
    "    def __init__(self, graph):\n",
    "        self.graph = graph\n",
    "        self.visited = []\n",
    "        self.stack = Stack()\n",
    "        \n",
    "    def top_sort(self, vertex, visited, stack):\n",
    "        if vertex in visited:\n",
    "            return\n",
    "        visited.append(vertex)\n",
    "        for neighbor in vertex.neighbors.keys():\n",
    "            self.top_sort(neighbor, visited=visited, stack=stack)\n",
    "        stack.push(vertex)\n",
    "        \n",
    "    def sort(self):\n",
    "        for vertex in self.graph.vertices.values():\n",
    "            self.top_sort(vertex, visited=self.visited, stack=self.stack)\n",
    "            \n",
    "        while not self.stack.is_empty():\n",
    "            top = self.stack.pop()\n",
    "            print(top.id, end=', ')"
   ]
  },
  {
   "cell_type": "code",
   "execution_count": 10,
   "metadata": {},
   "outputs": [
    {
     "name": "stdout",
     "output_type": "stream",
     "text": [
      "a, b, c, d, e, f, "
     ]
    }
   ],
   "source": [
    "top_sort = TopSort(graph=g)\n",
    "top_sort.sort()"
   ]
  },
  {
   "cell_type": "markdown",
   "metadata": {},
   "source": [
    "### Example"
   ]
  },
  {
   "cell_type": "code",
   "execution_count": 11,
   "metadata": {},
   "outputs": [],
   "source": [
    "graph = Graph()\n",
    "\n",
    "graph.add_vertex(key=5)\n",
    "graph.add_vertex(key=11)\n",
    "graph.add_vertex(key=2)\n",
    "graph.add_vertex(key=7)\n",
    "graph.add_vertex(key=8)\n",
    "graph.add_vertex(key=9)\n",
    "graph.add_vertex(key=3)\n",
    "graph.add_vertex(key=10)\n",
    "\n",
    "graph.add_edge(5, 11)\n",
    "graph.add_edge(11, 2)\n",
    "graph.add_edge(7, 11)\n",
    "graph.add_edge(7, 8)\n",
    "graph.add_edge(8, 9)\n",
    "graph.add_edge(3, 8)\n",
    "graph.add_edge(3, 10)\n",
    "graph.add_edge(11, 9)\n",
    "graph.add_edge(11, 10)\n",
    "graph.add_edge(2, 9)"
   ]
  },
  {
   "cell_type": "code",
   "execution_count": 12,
   "metadata": {},
   "outputs": [
    {
     "name": "stdout",
     "output_type": "stream",
     "text": [
      "3, 7, 8, 5, 11, 10, 2, 9, "
     ]
    }
   ],
   "source": [
    "top_sort_example = TopSort(graph=graph)\n",
    "top_sort_example.sort()"
   ]
  }
 ],
 "metadata": {
  "kernelspec": {
   "display_name": "Python 3",
   "language": "python",
   "name": "python3"
  },
  "language_info": {
   "codemirror_mode": {
    "name": "ipython",
    "version": 3
   },
   "file_extension": ".py",
   "mimetype": "text/x-python",
   "name": "python",
   "nbconvert_exporter": "python",
   "pygments_lexer": "ipython3",
   "version": "3.6.7"
  }
 },
 "nbformat": 4,
 "nbformat_minor": 2
}
