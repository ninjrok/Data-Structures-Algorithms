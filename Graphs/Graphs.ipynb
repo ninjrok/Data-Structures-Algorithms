{
 "cells": [
  {
   "cell_type": "markdown",
   "metadata": {},
   "source": [
    "# Graph Implementation\n",
    "\n",
    "* Uses Adjaceny List"
   ]
  },
  {
   "cell_type": "markdown",
   "metadata": {},
   "source": [
    "## Vertex Class"
   ]
  },
  {
   "cell_type": "code",
   "execution_count": 1,
   "metadata": {},
   "outputs": [],
   "source": [
    "class Vertex:\n",
    "    def __init__(self, key):\n",
    "        self.id = key\n",
    "        self.neighbors = {}\n",
    "        \n",
    "    def __str__(self):\n",
    "        return '{} is connected to: {}'.format(self.id, [(k.id, v) for k,v in self.neighbors.items()])\n",
    "        \n",
    "    def add_neighbor(self, nbr, weight=0):\n",
    "        self.neighbors[nbr] = weight\n",
    "    \n",
    "    def get_neighbors(self):\n",
    "        return iter(self.neighbors.items())"
   ]
  },
  {
   "cell_type": "markdown",
   "metadata": {},
   "source": [
    "## Graph Class"
   ]
  },
  {
   "cell_type": "code",
   "execution_count": 2,
   "metadata": {},
   "outputs": [],
   "source": [
    "class Graph:\n",
    "    def __init__(self):\n",
    "        self.vertices = {}\n",
    "        self.count = 0\n",
    "    \n",
    "    def __iter__(self):\n",
    "        return iter(self.vertices.values())\n",
    "        \n",
    "    def add_vertex(self, key):\n",
    "        self.count += 1\n",
    "        self.vertices[key] = Vertex(key=key)\n",
    "    \n",
    "    def add_edge(self, v1, v2, weight=0):\n",
    "        if v1 not in self.vertices:\n",
    "            self.add_vertex(v1)\n",
    "        if v2 not in self.vertices:\n",
    "            self.add_vertex(v2)\n",
    "            \n",
    "        self.vertices[v1].add_neighbor(self.vertices[v2], weight)"
   ]
  },
  {
   "cell_type": "markdown",
   "metadata": {},
   "source": [
    "## Graph Initialization"
   ]
  },
  {
   "cell_type": "code",
   "execution_count": 3,
   "metadata": {},
   "outputs": [],
   "source": [
    "# Sample Weighted Cyclic Graph 1\n",
    "g1 = Graph()\n",
    "\n",
    "g1.add_vertex(key='a')\n",
    "g1.add_vertex(key='b')\n",
    "g1.add_vertex(key='c')\n",
    "g1.add_vertex(key='d')\n",
    "g1.add_vertex(key='e')\n",
    "g1.add_vertex(key='f')\n",
    "g1.add_vertex(key='g')\n",
    "g1.add_vertex(key='h')\n",
    "\n",
    "g1.add_edge('a', 'b', weight=5)\n",
    "g1.add_edge('b', 'c', weight=4)\n",
    "g1.add_edge('c', 'd', weight=3)\n",
    "g1.add_edge('d', 'e', weight=3)\n",
    "g1.add_edge('e', 'f', weight=6)\n",
    "g1.add_edge('a', 'f', weight=6)\n",
    "g1.add_edge('c', 'b', weight=6)\n",
    "g1.add_edge('f', 'a', weight=2)\n",
    "g1.add_edge('b', 'g', weight=7)\n",
    "g1.add_edge('g', 'h', weight=9)\n",
    "g1.add_edge('h', 'c', weight=11)"
   ]
  },
  {
   "cell_type": "code",
   "execution_count": 4,
   "metadata": {},
   "outputs": [
    {
     "name": "stdout",
     "output_type": "stream",
     "text": [
      "a is connected to: [('b', 5), ('f', 6)]\n",
      "b is connected to: [('c', 4), ('g', 7)]\n",
      "c is connected to: [('d', 3), ('b', 6)]\n",
      "d is connected to: [('e', 3)]\n",
      "e is connected to: [('f', 6)]\n",
      "f is connected to: [('a', 2)]\n",
      "g is connected to: [('h', 9)]\n",
      "h is connected to: [('c', 11)]\n"
     ]
    }
   ],
   "source": [
    "for vertex in g1:\n",
    "    print(vertex)"
   ]
  },
  {
   "cell_type": "code",
   "execution_count": 5,
   "metadata": {},
   "outputs": [],
   "source": [
    "# Sample Unweighted Cyclic Graph 2\n",
    "\n",
    "g2 = Graph()\n",
    "\n",
    "g2.add_vertex(key=2)\n",
    "g2.add_vertex(key=0)\n",
    "g2.add_vertex(key=1)\n",
    "g2.add_vertex(key=3)\n",
    "\n",
    "g2.add_edge(0, 1)\n",
    "g2.add_edge(0, 2)\n",
    "g2.add_edge(1, 2)\n",
    "g2.add_edge(2, 0)\n",
    "g2.add_edge(2, 3)\n",
    "g2.add_edge(3, 3)"
   ]
  },
  {
   "cell_type": "code",
   "execution_count": 6,
   "metadata": {},
   "outputs": [
    {
     "name": "stdout",
     "output_type": "stream",
     "text": [
      "2 is connected to: [(0, 0), (3, 0)]\n",
      "0 is connected to: [(1, 0), (2, 0)]\n",
      "1 is connected to: [(2, 0)]\n",
      "3 is connected to: [(3, 0)]\n"
     ]
    }
   ],
   "source": [
    "for vertex in g2:\n",
    "    print(vertex)"
   ]
  },
  {
   "cell_type": "markdown",
   "metadata": {},
   "source": [
    "A Directed Acyclic Graph(DAG) is a graph that has a direction associated with its edges and is non-circular. i.e. in moving between vertices, no single vertex is encountered twice. All trees are directed acyclic graphs, but not all directed acyclic graphs are trees. "
   ]
  },
  {
   "cell_type": "code",
   "execution_count": 7,
   "metadata": {},
   "outputs": [],
   "source": [
    "# Sample Unweighted Directed Acyclic Graph 3\n",
    "\n",
    "g3 = Graph()\n",
    "\n",
    "g3.add_vertex(key=5)\n",
    "g3.add_vertex(key=4)\n",
    "g3.add_vertex(key=11)\n",
    "g3.add_vertex(key=2)\n",
    "g3.add_vertex(key=7)\n",
    "g3.add_vertex(key=8)\n",
    "g3.add_vertex(key=9)\n",
    "g3.add_vertex(key=3)\n",
    "g3.add_vertex(key=12)\n",
    "g3.add_vertex(key=10)\n",
    "\n",
    "g3.add_edge(5, 11)\n",
    "g3.add_edge(11, 2)\n",
    "g3.add_edge(7, 8)\n",
    "g3.add_edge(11, 9)\n",
    "g3.add_edge(11, 10)\n",
    "g3.add_edge(5, 7)\n",
    "g3.add_edge(7, 3)\n",
    "g3.add_edge(5, 4)\n",
    "g3.add_edge(11, 12)"
   ]
  },
  {
   "cell_type": "code",
   "execution_count": 8,
   "metadata": {},
   "outputs": [
    {
     "name": "stdout",
     "output_type": "stream",
     "text": [
      "5 is connected to: [(11, 0), (7, 0), (4, 0)]\n",
      "4 is connected to: []\n",
      "11 is connected to: [(2, 0), (9, 0), (10, 0), (12, 0)]\n",
      "2 is connected to: []\n",
      "7 is connected to: [(8, 0), (3, 0)]\n",
      "8 is connected to: []\n",
      "9 is connected to: []\n",
      "3 is connected to: []\n",
      "12 is connected to: []\n",
      "10 is connected to: []\n"
     ]
    }
   ],
   "source": [
    "for vertex in g3:\n",
    "    print(vertex)"
   ]
  },
  {
   "cell_type": "code",
   "execution_count": 9,
   "metadata": {},
   "outputs": [],
   "source": [
    "# Sample Weighted Directed Acyclic Graph 4\n",
    "\n",
    "g4 = Graph()\n",
    "\n",
    "g4.add_vertex(key='a')\n",
    "g4.add_vertex(key='b')\n",
    "g4.add_vertex(key='c')\n",
    "g4.add_vertex(key='d')\n",
    "g4.add_vertex(key='e')\n",
    "g4.add_vertex(key='f')\n",
    "g4.add_vertex(key='g')\n",
    "\n",
    "g4.add_edge('a', 'b', weight=4)\n",
    "g4.add_edge('a', 'g', weight=6)\n",
    "g4.add_edge('b', 'c', weight=3)\n",
    "g4.add_edge('b', 'd', weight=5)\n",
    "g4.add_edge('d', 'e', weight=7)\n",
    "g4.add_edge('b', 'f', weight=9)"
   ]
  },
  {
   "cell_type": "code",
   "execution_count": 10,
   "metadata": {},
   "outputs": [
    {
     "name": "stdout",
     "output_type": "stream",
     "text": [
      "a is connected to: [('b', 4), ('g', 6)]\n",
      "b is connected to: [('c', 3), ('d', 5), ('f', 9)]\n",
      "c is connected to: []\n",
      "d is connected to: [('e', 7)]\n",
      "e is connected to: []\n",
      "f is connected to: []\n",
      "g is connected to: []\n"
     ]
    }
   ],
   "source": [
    "for vertex in g4:\n",
    "    print(vertex)"
   ]
  },
  {
   "cell_type": "markdown",
   "metadata": {},
   "source": [
    "A disconnected graph is a graph in which certain vertices may not be reachable from a given vertex. In the graph below, the vertex 4 is not reachable from the vertex 5."
   ]
  },
  {
   "cell_type": "code",
   "execution_count": 11,
   "metadata": {},
   "outputs": [],
   "source": [
    "# Sample Unweighted Disconnected & Directed Acyclic Graph 5\n",
    "\n",
    "g5 = Graph()\n",
    "\n",
    "g5.add_vertex(key=5)\n",
    "g5.add_vertex(key=0)\n",
    "g5.add_vertex(key=1)\n",
    "g5.add_vertex(key=2)\n",
    "g5.add_vertex(key=3)\n",
    "g5.add_vertex(key=4)\n",
    "\n",
    "g5.add_edge(5, 2)\n",
    "g5.add_edge(5, 0)\n",
    "g5.add_edge(4, 0)\n",
    "g5.add_edge(4, 1)\n",
    "g5.add_edge(2, 3)\n",
    "g5.add_edge(3, 1)"
   ]
  },
  {
   "cell_type": "code",
   "execution_count": 12,
   "metadata": {},
   "outputs": [
    {
     "name": "stdout",
     "output_type": "stream",
     "text": [
      "5 is connected to: [(2, 0), (0, 0)]\n",
      "0 is connected to: []\n",
      "1 is connected to: []\n",
      "2 is connected to: [(3, 0)]\n",
      "3 is connected to: [(1, 0)]\n",
      "4 is connected to: [(0, 0), (1, 0)]\n"
     ]
    }
   ],
   "source": [
    "for vertex in g5:\n",
    "    print(vertex)"
   ]
  },
  {
   "cell_type": "markdown",
   "metadata": {},
   "source": [
    "## Search"
   ]
  },
  {
   "cell_type": "markdown",
   "metadata": {},
   "source": [
    "### Depth First Search\n",
    "\n",
    "* Explore the entire depth of a path first before exploring nearest neighbors\n",
    "* Uses stacks."
   ]
  },
  {
   "cell_type": "code",
   "execution_count": 13,
   "metadata": {},
   "outputs": [],
   "source": [
    "class Stack:\n",
    "    def __init__(self):\n",
    "        self.arr = []\n",
    "        \n",
    "    def is_empty(self):\n",
    "        return (True if len(self.arr) == 0 else False)\n",
    "    \n",
    "    def push(self, x):\n",
    "        self.arr.append(x)\n",
    "        \n",
    "    def pop(self):\n",
    "        return (None if self.is_empty() else self.arr.pop())"
   ]
  },
  {
   "cell_type": "code",
   "execution_count": 14,
   "metadata": {},
   "outputs": [],
   "source": [
    "class DFS:\n",
    "    def __init__(self, graph):\n",
    "        self.graph = graph\n",
    "        \n",
    "    def dfs(self, dfs, visited, stack):\n",
    "        while not stack.is_empty():\n",
    "            node = stack.pop()\n",
    "            dfs.append(node)\n",
    "            visited.append(node)\n",
    "            for nbr, _ in node.get_neighbors():\n",
    "                if nbr not in visited:\n",
    "                    visited.append(nbr)\n",
    "                    stack.push(nbr)\n",
    "\n",
    "    def __iter__(self):\n",
    "        stack = Stack()\n",
    "        visited = []\n",
    "        dfs = []\n",
    "\n",
    "        for vertex in self.graph:\n",
    "            if vertex not in visited:\n",
    "                stack.push(vertex)\n",
    "                self.dfs(dfs, visited, stack)\n",
    "\n",
    "        return iter(dfs)"
   ]
  },
  {
   "cell_type": "code",
   "execution_count": 15,
   "metadata": {},
   "outputs": [
    {
     "name": "stdout",
     "output_type": "stream",
     "text": [
      "Depth First Search of g1: ['a', 'f', 'b', 'g', 'h', 'c', 'd', 'e'] "
     ]
    }
   ],
   "source": [
    "print('Depth First Search of g1: {}'.format([i.id for i in DFS(g1)]), end=' ')"
   ]
  },
  {
   "cell_type": "code",
   "execution_count": 16,
   "metadata": {},
   "outputs": [
    {
     "name": "stdout",
     "output_type": "stream",
     "text": [
      "Depth First Search of g2: [2, 3, 0, 1] "
     ]
    }
   ],
   "source": [
    "print('Depth First Search of g2: {}'.format([i.id for i in DFS(g2)]), end=' ')"
   ]
  },
  {
   "cell_type": "code",
   "execution_count": 17,
   "metadata": {},
   "outputs": [
    {
     "name": "stdout",
     "output_type": "stream",
     "text": [
      "Depth First Search of g3: [5, 4, 7, 3, 8, 11, 12, 10, 9, 2] "
     ]
    }
   ],
   "source": [
    "print('Depth First Search of g3: {}'.format([i.id for i in DFS(g3)]), end=' ')"
   ]
  },
  {
   "cell_type": "code",
   "execution_count": 18,
   "metadata": {},
   "outputs": [
    {
     "name": "stdout",
     "output_type": "stream",
     "text": [
      "Depth First Search of g4: ['a', 'g', 'b', 'f', 'd', 'e', 'c'] "
     ]
    }
   ],
   "source": [
    "print('Depth First Search of g4: {}'.format([i.id for i in DFS(g4)]), end=' ')"
   ]
  },
  {
   "cell_type": "code",
   "execution_count": 19,
   "metadata": {},
   "outputs": [
    {
     "name": "stdout",
     "output_type": "stream",
     "text": [
      "Depth First Search of g5: [5, 0, 2, 3, 1, 4] "
     ]
    }
   ],
   "source": [
    "print('Depth First Search of g5: {}'.format([i.id for i in DFS(g5)]), end=' ')"
   ]
  },
  {
   "cell_type": "markdown",
   "metadata": {},
   "source": [
    "### Breadth First Search\n",
    "\n",
    "* Explore nearest neighbors first before exploring depths\n",
    "* Uses queues."
   ]
  },
  {
   "cell_type": "code",
   "execution_count": 20,
   "metadata": {},
   "outputs": [],
   "source": [
    "class Queue:\n",
    "    def __init__(self):\n",
    "        self.arr = []\n",
    "        \n",
    "    def is_empty(self):\n",
    "        return (True if len(self.arr) == 0 else False)\n",
    "    \n",
    "    def enqueue(self, x):\n",
    "        self.arr.append(x)\n",
    "        \n",
    "    def dequeue(self):\n",
    "        data = self.arr[0]\n",
    "        del self.arr[0]\n",
    "        return data"
   ]
  },
  {
   "cell_type": "code",
   "execution_count": 21,
   "metadata": {},
   "outputs": [],
   "source": [
    "class BFS:\n",
    "    def __init__(self, graph):\n",
    "        self.graph = graph\n",
    "\n",
    "    def bfs(self, bfs, visited, queue):\n",
    "        while not queue.is_empty():\n",
    "            node = queue.dequeue()\n",
    "            bfs.append(node)\n",
    "            visited.append(node)\n",
    "\n",
    "            for nbr, _ in node.get_neighbors():\n",
    "                if nbr not in visited:\n",
    "                    visited.append(nbr)\n",
    "                    queue.enqueue(nbr)\n",
    "        \n",
    "    def __iter__(self):\n",
    "        queue = Queue()\n",
    "        visited = []\n",
    "        bfs = []\n",
    "\n",
    "        for vertex in self.graph:\n",
    "            if vertex not in visited:\n",
    "                queue.enqueue(vertex)\n",
    "                self.bfs(bfs, visited, queue)\n",
    "\n",
    "        return iter(bfs)"
   ]
  },
  {
   "cell_type": "code",
   "execution_count": 22,
   "metadata": {},
   "outputs": [
    {
     "name": "stdout",
     "output_type": "stream",
     "text": [
      "Breadth First Search of g1: ['a', 'b', 'f', 'c', 'g', 'd', 'h', 'e'] "
     ]
    }
   ],
   "source": [
    "print('Breadth First Search of g1: {}'.format([i.id for i in BFS(g1)]), end=' ')"
   ]
  },
  {
   "cell_type": "code",
   "execution_count": 23,
   "metadata": {},
   "outputs": [
    {
     "name": "stdout",
     "output_type": "stream",
     "text": [
      "Breadth First Search of g2: [2, 0, 3, 1] "
     ]
    }
   ],
   "source": [
    "print('Breadth First Search of g2: {}'.format([i.id for i in BFS(g2)]), end=' ')"
   ]
  },
  {
   "cell_type": "code",
   "execution_count": 24,
   "metadata": {},
   "outputs": [
    {
     "name": "stdout",
     "output_type": "stream",
     "text": [
      "Breadth First Search of g3: [5, 11, 7, 4, 2, 9, 10, 12, 8, 3] "
     ]
    }
   ],
   "source": [
    "print('Breadth First Search of g3: {}'.format([i.id for i in BFS(g3)]), end=' ')"
   ]
  },
  {
   "cell_type": "code",
   "execution_count": 25,
   "metadata": {},
   "outputs": [
    {
     "name": "stdout",
     "output_type": "stream",
     "text": [
      "Breadth First Search of g4: ['a', 'b', 'g', 'c', 'd', 'f', 'e'] "
     ]
    }
   ],
   "source": [
    "print('Breadth First Search of g4: {}'.format([i.id for i in BFS(g4)]), end=' ')"
   ]
  },
  {
   "cell_type": "code",
   "execution_count": 26,
   "metadata": {},
   "outputs": [
    {
     "name": "stdout",
     "output_type": "stream",
     "text": [
      "Breadth First Search of g5: [5, 2, 0, 3, 1, 4] "
     ]
    }
   ],
   "source": [
    "print('Breadth First Search of g5: {}'.format([i.id for i in BFS(g5)]), end=' ')"
   ]
  },
  {
   "cell_type": "markdown",
   "metadata": {},
   "source": [
    "## Topological Sort\n",
    "\n",
    "* Only applicable for Directed Acyclic Graphs(DAGs)\n",
    "* For every directed edge uc, vertex u should come before vertex v"
   ]
  },
  {
   "cell_type": "code",
   "execution_count": 27,
   "metadata": {},
   "outputs": [],
   "source": [
    "class TopSort:\n",
    "    def __init__(self, graph):\n",
    "        self.graph = graph\n",
    "        \n",
    "    def top_sort(self, vertex, visited, stack):\n",
    "        if vertex in visited:\n",
    "            return\n",
    "        visited.append(vertex)\n",
    "        for neighbor, _ in vertex.get_neighbors():\n",
    "            self.top_sort(neighbor, visited=visited, stack=stack)\n",
    "        stack.push(vertex)\n",
    "        \n",
    "    def __iter__(self):\n",
    "        visited = []\n",
    "        stack = Stack()\n",
    "        \n",
    "        for vertex in self.graph:\n",
    "            self.top_sort(vertex, visited=visited, stack=stack)\n",
    "            \n",
    "        return iter(stack.arr[::-1])"
   ]
  },
  {
   "cell_type": "code",
   "execution_count": 28,
   "metadata": {},
   "outputs": [
    {
     "name": "stdout",
     "output_type": "stream",
     "text": [
      "Topologically sorted g3: [5, 4, 7, 3, 8, 11, 12, 10, 9, 2]\n"
     ]
    }
   ],
   "source": [
    "print('Topologically sorted g3: {}'.format([i.id for i in TopSort(graph=g3)]))"
   ]
  },
  {
   "cell_type": "code",
   "execution_count": 29,
   "metadata": {},
   "outputs": [
    {
     "name": "stdout",
     "output_type": "stream",
     "text": [
      "Topologically sorted g4: ['a', 'g', 'b', 'f', 'd', 'e', 'c']\n"
     ]
    }
   ],
   "source": [
    "print('Topologically sorted g4: {}'.format([i.id for i in TopSort(graph=g4)]))"
   ]
  },
  {
   "cell_type": "code",
   "execution_count": 30,
   "metadata": {},
   "outputs": [
    {
     "name": "stdout",
     "output_type": "stream",
     "text": [
      "Topologically sorted g5: [4, 5, 0, 2, 3, 1]\n"
     ]
    }
   ],
   "source": [
    "print('Topologically sorted g5: {}'.format([i.id for i in TopSort(graph=g5)]))"
   ]
  },
  {
   "cell_type": "markdown",
   "metadata": {},
   "source": [
    "## Dijkstra's Algorithm"
   ]
  },
  {
   "cell_type": "markdown",
   "metadata": {},
   "source": [
    "Priority Queue implementation based on binary minheap."
   ]
  },
  {
   "cell_type": "code",
   "execution_count": 31,
   "metadata": {},
   "outputs": [],
   "source": [
    "class PQNode:\n",
    "    def __init__(self, key, value):\n",
    "        self.key = key\n",
    "        self.value = value"
   ]
  },
  {
   "cell_type": "code",
   "execution_count": 32,
   "metadata": {},
   "outputs": [],
   "source": [
    "class MinHeap:\n",
    "    def __init__(self):\n",
    "        self.arr = []\n",
    "        \n",
    "    def is_empty(self):\n",
    "        return (True if len(self.arr) == 0 else False)\n",
    "    \n",
    "    def insert(self, node):\n",
    "        self.arr.append(None)\n",
    "        i = len(self.arr) - 1\n",
    "        \n",
    "        while i > 0 and node.value > self.arr[(i-1)//2].value:\n",
    "            self.arr[i] = self.arr[(i-1)//2]\n",
    "            i = (i-1) // 2\n",
    "            \n",
    "        self.arr[i] = node\n",
    " \n",
    "    def percolate_down(self, i):\n",
    "        l = (2*i+1 if 2*i+1 < len(self.arr) else None)\n",
    "        r = (2*i+2 if 2*i+2 < len(self.arr) else None)\n",
    "        \n",
    "        if l and self.arr[l].value < self.arr[i].value:\n",
    "            min_ = l\n",
    "        else:\n",
    "            min_ = i\n",
    "        if r and self.arr[r].value < self.arr[min_].value:\n",
    "            min_ = r\n",
    "            \n",
    "        if min_ != i:\n",
    "            self.arr[i], self.arr[min_] = self.arr[min_], self.arr[i]\n",
    "            self.percolate_down(min_)\n",
    "            \n",
    "    def delete_min(self):\n",
    "        if self.is_empty():\n",
    "            return None\n",
    "        \n",
    "        min_ = self.arr[0]\n",
    "        self.arr[0] = self.arr[-1]\n",
    "        del self.arr[-1]\n",
    "        self.percolate_down(0)\n",
    "        \n",
    "        return min_.key, min_.value\n",
    "            \n",
    "    def build_heap(self, arr):\n",
    "        self.arr = arr\n",
    "        i = (len(self.arr) - 1) // 2\n",
    "        while i >= 0:\n",
    "            self.percolate_down(i)\n",
    "            i -= 1"
   ]
  },
  {
   "cell_type": "code",
   "execution_count": 33,
   "metadata": {},
   "outputs": [],
   "source": [
    "def dijkstra(graph, source, destination):\n",
    "    # Initialize MinHeap\n",
    "    pq = MinHeap()\n",
    "\n",
    "    # Dictionaries to store previous vertex\n",
    "    # and distance from source\n",
    "    parent = {}\n",
    "    distance = {}\n",
    "\n",
    "    # Initialize distance with inf for all vertices except the source\n",
    "    # Parent is None for all vertices\n",
    "    for vertex in DFS(graph):\n",
    "        if vertex.id == source:\n",
    "            source = vertex\n",
    "            distance[vertex] = 0\n",
    "        else:\n",
    "            if vertex.id == destination:\n",
    "                destination = vertex\n",
    "            distance[vertex] = float('inf')\n",
    "        parent[vertex] = None\n",
    "\n",
    "    # Build Heap with Priority Node\n",
    "    pq.build_heap([PQNode(key=source, value=0)])\n",
    "    \n",
    "    # Calculate shortest path\n",
    "    while not pq.is_empty():\n",
    "        # Get vertex with smallest weight\n",
    "        vertex, v_weight = pq.delete_min()\n",
    "        \n",
    "        # Calculate shortest distance to neighbor and update distance and parent\n",
    "        for nbr, weight in vertex.get_neighbors():\n",
    "            candidate_distance = distance[vertex] + weight\n",
    "            # If distance to a neighbor is greater than the distance calculated\n",
    "            # through the current vertex, update the distance dictionary with \n",
    "            # the shorter path\n",
    "            if distance[nbr] > candidate_distance:\n",
    "                distance[nbr] = candidate_distance\n",
    "                parent[nbr] = vertex\n",
    "                # Insert into MinHeap\n",
    "                pq.insert(PQNode(key=nbr, value=candidate_distance))\n",
    "    \n",
    "    # Trace back the shortest path from source to destination\n",
    "    shortest_path = []\n",
    "    end = destination\n",
    "    while end:\n",
    "        shortest_path.insert(0, end)\n",
    "        end = parent[end]\n",
    "        \n",
    "    return shortest_path, distance[destination]"
   ]
  },
  {
   "cell_type": "code",
   "execution_count": 34,
   "metadata": {},
   "outputs": [
    {
     "name": "stdout",
     "output_type": "stream",
     "text": [
      "Shortest Path: ['f', 'a', 'b', 'c', 'd', 'e'], Distance: 17\n"
     ]
    }
   ],
   "source": [
    "path, distance = dijkstra(g1, 'f', 'e')\n",
    "\n",
    "print('Shortest Path: {}, Distance: {}'.format([i.id for i in path], distance))"
   ]
  },
  {
   "cell_type": "code",
   "execution_count": 35,
   "metadata": {},
   "outputs": [
    {
     "name": "stdout",
     "output_type": "stream",
     "text": [
      "Shortest Path: ['a', 'b', 'd', 'e'], Distance: 16\n"
     ]
    }
   ],
   "source": [
    "path, distance = dijkstra(g4, 'a', 'e')\n",
    "\n",
    "print('Shortest Path: {}, Distance: {}'.format([i.id for i in path], distance))"
   ]
  }
 ],
 "metadata": {
  "kernelspec": {
   "display_name": "Python 3",
   "language": "python",
   "name": "python3"
  },
  "language_info": {
   "codemirror_mode": {
    "name": "ipython",
    "version": 3
   },
   "file_extension": ".py",
   "mimetype": "text/x-python",
   "name": "python",
   "nbconvert_exporter": "python",
   "pygments_lexer": "ipython3",
   "version": "3.6.7"
  }
 },
 "nbformat": 4,
 "nbformat_minor": 2
}
