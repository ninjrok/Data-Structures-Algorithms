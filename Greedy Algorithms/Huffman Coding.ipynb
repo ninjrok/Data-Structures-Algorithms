{
 "cells": [
  {
   "cell_type": "markdown",
   "metadata": {},
   "source": [
    "# Huffman Coding"
   ]
  },
  {
   "cell_type": "markdown",
   "metadata": {},
   "source": [
    "Given a set of n characters from the alphabet A(with each c E A) and their associated frequencies (freq(c)).\n",
    "\n",
    "The aim is to create a binary code that represents each character in A such that the freq(c) * len(binary_code(c)) is minimal."
   ]
  },
  {
   "cell_type": "code",
   "execution_count": 1,
   "metadata": {},
   "outputs": [],
   "source": [
    "characters = {\n",
    "    'a': 12,\n",
    "    'b': 2,\n",
    "    'c': 7,\n",
    "    'd': 13,\n",
    "    'e': 14,\n",
    "    'f': 85,\n",
    "    'g': 125\n",
    "}"
   ]
  },
  {
   "cell_type": "markdown",
   "metadata": {},
   "source": [
    "## Priority heap node to store string and frequency"
   ]
  },
  {
   "cell_type": "code",
   "execution_count": 2,
   "metadata": {},
   "outputs": [],
   "source": [
    "class HuffmanNode:\n",
    "    def __init__(self, char, freq):\n",
    "        self.char = char\n",
    "        self.freq = freq\n",
    "        self.left = self.right = None"
   ]
  },
  {
   "cell_type": "markdown",
   "metadata": {},
   "source": [
    "## Binary MinHeap Definition"
   ]
  },
  {
   "cell_type": "code",
   "execution_count": 3,
   "metadata": {},
   "outputs": [],
   "source": [
    "class MinHeap:\n",
    "    def __init__(self):\n",
    "        self.arr = []\n",
    "    \n",
    "    def left_child(self, i):\n",
    "        return (2*i+1 if 2*i+1 < len(self.arr) else None)\n",
    "    \n",
    "    def right_child(self, i):\n",
    "        return (2*i+2 if 2*i+2 < len(self.arr) else None)\n",
    "    \n",
    "    def insert(self, data):\n",
    "        self.arr.append(None)\n",
    "        i = len(self.arr) - 1\n",
    "        while i > 0 and data.freq < self.arr[(i-1)//2].freq:\n",
    "            self.arr[i] = self.arr[(i-1)//2]\n",
    "            i = (i-1) // 2\n",
    "            \n",
    "        self.arr[i] = data\n",
    "        \n",
    "    def percolate_down(self, i):\n",
    "        l = self.left_child(i)\n",
    "        r = self.right_child(i)\n",
    "        \n",
    "        if l and self.arr[l].freq < self.arr[i].freq:\n",
    "            min_ = l\n",
    "        else:\n",
    "            min_ = i\n",
    "        if r and self.arr[r].freq < self.arr[min_].freq:\n",
    "            min_ = r\n",
    "            \n",
    "        if min_ != i:\n",
    "            self.arr[i], self.arr[min_] = self.arr[min_], self.arr[i]\n",
    "            self.percolate_down(min_)\n",
    "            \n",
    "    def delete_min(self):\n",
    "        if not self.arr:\n",
    "            return None\n",
    "        \n",
    "        min_ = self.arr[0]\n",
    "        self.arr[0] = self.arr[-1]\n",
    "        del self.arr[-1]\n",
    "        self.percolate_down(0)\n",
    "        \n",
    "        return min_\n",
    "    \n",
    "    def build_heap(self):\n",
    "        i = (len(self.arr) - 1) // 2\n",
    "        \n",
    "        while i >= 0:\n",
    "            self.percolate_down(i)\n",
    "            i -= 1\n",
    "            \n",
    "    def create_heap(self, characters):\n",
    "        for k, v in characters.items():\n",
    "            self.arr.append(HuffmanNode(k, v))\n",
    "            \n",
    "        self.build_heap()"
   ]
  },
  {
   "cell_type": "markdown",
   "metadata": {},
   "source": [
    "## Binary MinHeap Creation"
   ]
  },
  {
   "cell_type": "code",
   "execution_count": 4,
   "metadata": {},
   "outputs": [],
   "source": [
    "min_heap = MinHeap()\n",
    "min_heap.create_heap(characters)"
   ]
  },
  {
   "cell_type": "markdown",
   "metadata": {},
   "source": [
    "### Display MinHeap"
   ]
  },
  {
   "cell_type": "code",
   "execution_count": 5,
   "metadata": {},
   "outputs": [
    {
     "name": "stdout",
     "output_type": "stream",
     "text": [
      "b: 2, a: 12, c: 7, d: 13, e: 14, f: 85, g: 125, "
     ]
    }
   ],
   "source": [
    "for node in min_heap.arr:\n",
    "    print('{}: {}'.format(node.char, node.freq), end=', ')"
   ]
  },
  {
   "cell_type": "markdown",
   "metadata": {},
   "source": [
    "## Huffman Coding\n",
    "\n",
    "Use '$' to define new huffman node."
   ]
  },
  {
   "cell_type": "code",
   "execution_count": 6,
   "metadata": {},
   "outputs": [],
   "source": [
    "for i in range(len(characters) - 1):\n",
    "    temp = HuffmanNode('$', -1)\n",
    "    temp.left = min_heap.delete_min()\n",
    "    temp.right = min_heap.delete_min()\n",
    "    temp.freq = temp.left.freq + temp.right.freq\n",
    "    min_heap.insert(temp)"
   ]
  },
  {
   "cell_type": "markdown",
   "metadata": {},
   "source": [
    "## Level Order Traversal of Huffman Tree"
   ]
  },
  {
   "cell_type": "markdown",
   "metadata": {},
   "source": [
    "### Queue Implementation"
   ]
  },
  {
   "cell_type": "code",
   "execution_count": 7,
   "metadata": {},
   "outputs": [],
   "source": [
    "class Queue:\n",
    "    def __init__(self):\n",
    "        self.arr = []\n",
    "        \n",
    "    def is_empty(self):\n",
    "        return (True if not self.arr else False)\n",
    "        \n",
    "    def enqueue(self, x):\n",
    "        self.arr.append(x)\n",
    "        \n",
    "    def dequeue(self):\n",
    "        data = self.arr[0]\n",
    "        del self.arr[0]\n",
    "        \n",
    "        return data"
   ]
  },
  {
   "cell_type": "markdown",
   "metadata": {},
   "source": [
    "The MinHeap has only one node now, which is the root of the Huffman Tree."
   ]
  },
  {
   "cell_type": "code",
   "execution_count": 8,
   "metadata": {},
   "outputs": [],
   "source": [
    "root = min_heap.arr[0]"
   ]
  },
  {
   "cell_type": "code",
   "execution_count": 9,
   "metadata": {},
   "outputs": [],
   "source": [
    "def level_order(root):\n",
    "    queue = Queue()\n",
    "    queue.enqueue(root)\n",
    "    \n",
    "    while not queue.is_empty():\n",
    "        data = queue.dequeue()\n",
    "        print('{} --> {}'.format(data.char, data.freq))\n",
    "        if data.left:\n",
    "            queue.enqueue(data.left)\n",
    "        if data.right:\n",
    "            queue.enqueue(data.right)"
   ]
  },
  {
   "cell_type": "code",
   "execution_count": 10,
   "metadata": {},
   "outputs": [
    {
     "name": "stdout",
     "output_type": "stream",
     "text": [
      "$ --> 258\n",
      "g --> 125\n",
      "$ --> 133\n",
      "$ --> 48\n",
      "f --> 85\n",
      "$ --> 21\n",
      "$ --> 27\n",
      "$ --> 9\n",
      "a --> 12\n",
      "d --> 13\n",
      "e --> 14\n",
      "b --> 2\n",
      "c --> 7\n"
     ]
    }
   ],
   "source": [
    "level_order(root)"
   ]
  },
  {
   "cell_type": "markdown",
   "metadata": {},
   "source": [
    "Encode every left node as '0' and right node as '1' to calculate the Huffman code for the corresponding character. The characters are in the leaf nodes."
   ]
  },
  {
   "cell_type": "code",
   "execution_count": 11,
   "metadata": {},
   "outputs": [],
   "source": [
    "def print_dict(dict_, idx):\n",
    "    for i in range(idx):\n",
    "        print(dict_[i], end=' ')\n",
    "    print('')"
   ]
  },
  {
   "cell_type": "code",
   "execution_count": 12,
   "metadata": {},
   "outputs": [],
   "source": [
    "def print_codes(root, dict_, idx):\n",
    "    if root.left:\n",
    "        dict_[idx] = 0\n",
    "        print_codes(root.left, dict_, idx+1)\n",
    "    if root.right:\n",
    "        dict_[idx] = 1\n",
    "        print_codes(root.right, dict_, idx+1)\n",
    "    if not root.left and not root.right:\n",
    "        print('{} ({}) --> '.format(root.char, root.freq), end=' ')\n",
    "        print_dict(dict_, idx)"
   ]
  },
  {
   "cell_type": "code",
   "execution_count": 13,
   "metadata": {},
   "outputs": [
    {
     "name": "stdout",
     "output_type": "stream",
     "text": [
      "g (125) -->  0 \n",
      "b (2) -->  1 0 0 0 0 \n",
      "c (7) -->  1 0 0 0 1 \n",
      "a (12) -->  1 0 0 1 \n",
      "d (13) -->  1 0 1 0 \n",
      "e (14) -->  1 0 1 1 \n",
      "f (85) -->  1 1 \n"
     ]
    }
   ],
   "source": [
    "print_codes(root, {}, 0)"
   ]
  },
  {
   "cell_type": "markdown",
   "metadata": {},
   "source": [
    "Huffman encoding creates binary codes that are shorter for keys that have a larger frequency. In the above example, 'g' and 'f' have the largest frequencies but their Huffman codes are the smallest."
   ]
  }
 ],
 "metadata": {
  "kernelspec": {
   "display_name": "Python 3",
   "language": "python",
   "name": "python3"
  },
  "language_info": {
   "codemirror_mode": {
    "name": "ipython",
    "version": 3
   },
   "file_extension": ".py",
   "mimetype": "text/x-python",
   "name": "python",
   "nbconvert_exporter": "python",
   "pygments_lexer": "ipython3",
   "version": "3.6.7"
  }
 },
 "nbformat": 4,
 "nbformat_minor": 2
}
