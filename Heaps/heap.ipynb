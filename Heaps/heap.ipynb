{
 "cells": [
  {
   "cell_type": "markdown",
   "metadata": {},
   "source": [
    "# Max Heap Implementation"
   ]
  },
  {
   "cell_type": "code",
   "execution_count": 1,
   "metadata": {},
   "outputs": [],
   "source": [
    "class MaxHeap:\n",
    "    def __init__(self):\n",
    "        self.heap = []\n",
    "            \n",
    "    def get_max(self):\n",
    "        return (None if len(self.heap) == 0 else self.heap[0])\n",
    "    \n",
    "    def percolate_down(self, i):\n",
    "        l = (2*i+1 if (2*i+1) < len(self.heap) else None)\n",
    "        r = (2*i+2 if (2*i+2) < len(self.heap) else None)\n",
    "        \n",
    "        if l and self.heap[l] > self.heap[i]:\n",
    "            maximum = l\n",
    "        else:\n",
    "            maximum = i\n",
    "        if r and self.heap[r] > self.heap[maximum]:\n",
    "            maximum = r\n",
    "        \n",
    "        if maximum != i:\n",
    "            temp = self.heap[i]\n",
    "            self.heap[i] = self.heap[maximum]\n",
    "            self.heap[maximum] = temp\n",
    "            self.percolate_down(maximum)\n",
    "\n",
    "    def delete_max(self):\n",
    "        if len(self.heap) == 0:\n",
    "            return None\n",
    "        \n",
    "        data = self.heap[0]\n",
    "        self.heap[0] = self.heap[-1]\n",
    "        del self.heap[-1]\n",
    "        self.percolate_down(0)\n",
    "        \n",
    "        return data\n",
    "        \n",
    "    def build_heap(self, array):\n",
    "        self.heap = array\n",
    "        i = (len(self.heap)-1) // 2\n",
    "        while i >= 0:\n",
    "            self.percolate_down(i)\n",
    "            i -= 1"
   ]
  },
  {
   "cell_type": "markdown",
   "metadata": {},
   "source": [
    "## Demo"
   ]
  },
  {
   "cell_type": "code",
   "execution_count": 2,
   "metadata": {},
   "outputs": [
    {
     "name": "stdout",
     "output_type": "stream",
     "text": [
      "[99, 56, 7, 34, 12, 2, 3, 9]\n"
     ]
    }
   ],
   "source": [
    "max_heap = MaxHeap()\n",
    "max_heap.build_heap([3, 12, 99, 34, 56, 2, 7, 9])\n",
    "print(max_heap.heap)"
   ]
  },
  {
   "cell_type": "markdown",
   "metadata": {},
   "source": [
    "# Min Heap Implementation"
   ]
  },
  {
   "cell_type": "code",
   "execution_count": 3,
   "metadata": {},
   "outputs": [],
   "source": [
    "class MinHeap:\n",
    "    def __init__(self):\n",
    "        self.heap = []\n",
    "            \n",
    "    def get_min(self):\n",
    "        return (None if len(self.heap) == 0 else self.heap[0])\n",
    "    \n",
    "    def percolate_down(self, i):\n",
    "        l = (2*i+1 if (2*i+1) < len(self.heap) else None)\n",
    "        r = (2*i+2 if (2*i+2) < len(self.heap) else None)\n",
    "        \n",
    "        if l and self.heap[l] < self.heap[i]:\n",
    "            minimum = l\n",
    "        else:\n",
    "            minimum = i\n",
    "        if r and self.heap[r] < self.heap[minimum]:\n",
    "            minimum = r\n",
    "        \n",
    "        if minimum != i:\n",
    "            temp = self.heap[i]\n",
    "            self.heap[i] = self.heap[minimum]\n",
    "            self.heap[minimum] = temp\n",
    "            self.percolate_down(minimum)\n",
    "\n",
    "    def delete_min(self):\n",
    "        if len(self.heap) == 0:\n",
    "            return None\n",
    "        \n",
    "        data = self.heap[0]\n",
    "        self.heap[0] = self.heap[-1]\n",
    "        del self.heap[-1]\n",
    "        self.percolate_down(0)\n",
    "        \n",
    "        return data\n",
    "        \n",
    "    def build_heap(self, array):\n",
    "        self.heap = array\n",
    "        i = (len(self.heap)-1) // 2\n",
    "        while i >= 0:\n",
    "            self.percolate_down(i)\n",
    "            i -= 1"
   ]
  },
  {
   "cell_type": "markdown",
   "metadata": {},
   "source": [
    "## Demo"
   ]
  },
  {
   "cell_type": "code",
   "execution_count": 4,
   "metadata": {},
   "outputs": [
    {
     "name": "stdout",
     "output_type": "stream",
     "text": [
      "[2, 9, 3, 12, 56, 99, 7, 34]\n"
     ]
    }
   ],
   "source": [
    "min_heap = MinHeap()\n",
    "min_heap.build_heap([3, 12, 99, 34, 56, 2, 7, 9])\n",
    "print(min_heap.heap)"
   ]
  },
  {
   "cell_type": "markdown",
   "metadata": {},
   "source": [
    "# Heap Sort in descending order with a max heap"
   ]
  },
  {
   "cell_type": "code",
   "execution_count": 5,
   "metadata": {},
   "outputs": [],
   "source": [
    "def heap_sort_desc(array):\n",
    "    heap = MaxHeap()\n",
    "    heap.build_heap(array)\n",
    "    for _ in range(0, len(heap.heap)):\n",
    "        print(heap.delete_max(), end=' ')"
   ]
  },
  {
   "cell_type": "code",
   "execution_count": 6,
   "metadata": {},
   "outputs": [
    {
     "name": "stdout",
     "output_type": "stream",
     "text": [
      "88 22 14 9 4 4 3 1 "
     ]
    }
   ],
   "source": [
    "heap_sort_desc([4, 1, 88, 22, 3, 4, 14, 9])"
   ]
  },
  {
   "cell_type": "markdown",
   "metadata": {},
   "source": [
    "# Heap Sort in ascending order with a min heap"
   ]
  },
  {
   "cell_type": "code",
   "execution_count": 7,
   "metadata": {},
   "outputs": [],
   "source": [
    "def heap_sort_asc(array):\n",
    "    heap = MinHeap()\n",
    "    heap.build_heap(array)\n",
    "    for _ in range(0, len(heap.heap)):\n",
    "        print(heap.delete_min(), end=' ')"
   ]
  },
  {
   "cell_type": "code",
   "execution_count": 8,
   "metadata": {},
   "outputs": [
    {
     "name": "stdout",
     "output_type": "stream",
     "text": [
      "1 3 4 4 9 14 22 88 "
     ]
    }
   ],
   "source": [
    "heap_sort_asc([4, 1, 88, 22, 3, 4, 14, 9])"
   ]
  }
 ],
 "metadata": {
  "kernelspec": {
   "display_name": "Python 3",
   "language": "python",
   "name": "python3"
  },
  "language_info": {
   "codemirror_mode": {
    "name": "ipython",
    "version": 3
   },
   "file_extension": ".py",
   "mimetype": "text/x-python",
   "name": "python",
   "nbconvert_exporter": "python",
   "pygments_lexer": "ipython3",
   "version": "3.6.7"
  }
 },
 "nbformat": 4,
 "nbformat_minor": 2
}
