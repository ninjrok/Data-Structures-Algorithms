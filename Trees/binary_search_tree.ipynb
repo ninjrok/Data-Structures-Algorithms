{
 "cells": [
  {
   "cell_type": "code",
   "execution_count": 1,
   "metadata": {},
   "outputs": [],
   "source": [
    "class Node:\n",
    "    def __init__(self, data):\n",
    "        self.data = data\n",
    "        self.left = None\n",
    "        self.right = None"
   ]
  },
  {
   "cell_type": "code",
   "execution_count": 7,
   "metadata": {},
   "outputs": [],
   "source": [
    "class BinarySearchTree:\n",
    "    def __init__(self):\n",
    "        self.root = None\n",
    "        \n",
    "    def build_tree(self, list_):\n",
    "        for element in list_:\n",
    "            self.root = self.insert(self.root, element)\n",
    "        \n",
    "    def insert(self, root, data):\n",
    "        if root is None:\n",
    "            root = Node(data)\n",
    "        elif data < root.data:\n",
    "            root.left = self.insert(root.left, data)\n",
    "        else:\n",
    "            root.right = self.insert(root.right, data)\n",
    "            \n",
    "        return root\n",
    "    \n",
    "    def search(self, root, data):\n",
    "        if not root:\n",
    "            return None\n",
    "        elif data < root.data:\n",
    "            return self.search(root.left, data)\n",
    "        elif data > root.data:\n",
    "            return self.search(root.right, data)\n",
    "        \n",
    "        return root\n",
    "    \n",
    "    def max_(self, root):\n",
    "        if not root:\n",
    "            return None\n",
    "        "
   ]
  },
  {
   "cell_type": "code",
   "execution_count": 8,
   "metadata": {},
   "outputs": [],
   "source": [
    "bst = BinarySearchTree()"
   ]
  },
  {
   "cell_type": "code",
   "execution_count": 9,
   "metadata": {},
   "outputs": [],
   "source": [
    "bst.build_tree([12,1,2,4,14,7])"
   ]
  },
  {
   "cell_type": "code",
   "execution_count": 20,
   "metadata": {},
   "outputs": [],
   "source": [
    "def in_order(root):\n",
    "    if root:\n",
    "        in_order(root.left)\n",
    "        print(root.data, end=' ')\n",
    "        in_order(root.right)"
   ]
  },
  {
   "cell_type": "code",
   "execution_count": 21,
   "metadata": {},
   "outputs": [
    {
     "name": "stdout",
     "output_type": "stream",
     "text": [
      "1 2 4 7 12 14 "
     ]
    }
   ],
   "source": [
    "in_order(bst.root)"
   ]
  },
  {
   "cell_type": "code",
   "execution_count": null,
   "metadata": {},
   "outputs": [],
   "source": []
  }
 ],
 "metadata": {
  "kernelspec": {
   "display_name": "Python 3",
   "language": "python",
   "name": "python3"
  },
  "language_info": {
   "codemirror_mode": {
    "name": "ipython",
    "version": 3
   },
   "file_extension": ".py",
   "mimetype": "text/x-python",
   "name": "python",
   "nbconvert_exporter": "python",
   "pygments_lexer": "ipython3",
   "version": "3.6.7"
  }
 },
 "nbformat": 4,
 "nbformat_minor": 2
}
