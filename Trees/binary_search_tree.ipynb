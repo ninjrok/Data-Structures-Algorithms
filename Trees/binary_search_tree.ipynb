{
 "cells": [
  {
   "cell_type": "markdown",
   "metadata": {},
   "source": [
    "# Binary Search Tree Implementation"
   ]
  },
  {
   "cell_type": "markdown",
   "metadata": {},
   "source": [
    "## Node class defintion"
   ]
  },
  {
   "cell_type": "code",
   "execution_count": 1,
   "metadata": {},
   "outputs": [],
   "source": [
    "class Node:\n",
    "    def __init__(self, data):\n",
    "        self.data = data\n",
    "        self.left = None\n",
    "        self.right = None"
   ]
  },
  {
   "cell_type": "markdown",
   "metadata": {},
   "source": [
    "## Binary Search Tree class definition"
   ]
  },
  {
   "cell_type": "code",
   "execution_count": 2,
   "metadata": {},
   "outputs": [],
   "source": [
    "class BinarySearchTree:\n",
    "    def __init__(self):\n",
    "        self.root = None\n",
    "        \n",
    "    def build_tree(self, list_):\n",
    "        for element in list_:\n",
    "            self.root = self.insert(self.root, element)\n",
    "        \n",
    "    def insert(self, root, data):\n",
    "        if root is None:\n",
    "            root = Node(data)\n",
    "        elif data < root.data:\n",
    "            root.left = self.insert(root.left, data)\n",
    "        else:\n",
    "            root.right = self.insert(root.right, data)\n",
    "            \n",
    "        return root\n",
    "    \n",
    "    def search(self, root, data):\n",
    "        if not root:\n",
    "            return None\n",
    "        elif data < root.data:\n",
    "            return self.search(root.left, data)\n",
    "        elif data > root.data:\n",
    "            return self.search(root.right, data)\n",
    "        \n",
    "        return root\n",
    "    \n",
    "    def max_(self, root):\n",
    "        if not root:\n",
    "            return None\n",
    "        elif not root.right:\n",
    "            return root\n",
    "        else:\n",
    "            return self.max_(root.right)\n",
    "        \n",
    "    def min_(self, root):\n",
    "        if not root:\n",
    "            return None\n",
    "        elif not root.left:\n",
    "            return root\n",
    "        else:\n",
    "            return self.min_(root.left)\n",
    "        \n",
    "    def delete(self, root, data):\n",
    "        if not root:\n",
    "            return None\n",
    "        elif root.data == data:\n",
    "            if not root.left and not root.right:\n",
    "                return None\n",
    "            elif not root.left or not root.right:\n",
    "                root = (root.left if root.left else root.right) \n",
    "            else:\n",
    "                temp = self.max_(root.left)\n",
    "                root.data = temp.data\n",
    "                root.left = self.delete(root.left, temp.data)\n",
    "        elif data < root.data:\n",
    "            root.left =  self.delete(root.left, data)\n",
    "        else:\n",
    "            root.right = self.delete(root.right, data)\n",
    "            \n",
    "        return root"
   ]
  },
  {
   "cell_type": "markdown",
   "metadata": {},
   "source": [
    "## Binary Search Tree declaration"
   ]
  },
  {
   "cell_type": "code",
   "execution_count": 3,
   "metadata": {},
   "outputs": [],
   "source": [
    "bst = BinarySearchTree()"
   ]
  },
  {
   "cell_type": "markdown",
   "metadata": {},
   "source": [
    "### Building binary search tree from a list of numbers"
   ]
  },
  {
   "cell_type": "code",
   "execution_count": 4,
   "metadata": {},
   "outputs": [],
   "source": [
    "bst.build_tree([12,1,2,4,14,7])"
   ]
  },
  {
   "cell_type": "markdown",
   "metadata": {},
   "source": [
    "## Traversals"
   ]
  },
  {
   "cell_type": "markdown",
   "metadata": {},
   "source": [
    "### Inorder (Recursive)"
   ]
  },
  {
   "cell_type": "code",
   "execution_count": 5,
   "metadata": {},
   "outputs": [],
   "source": [
    "def in_order(root):\n",
    "    if root:\n",
    "        in_order(root.left)\n",
    "        print(root.data, end=' ')\n",
    "        in_order(root.right)"
   ]
  },
  {
   "cell_type": "code",
   "execution_count": 6,
   "metadata": {},
   "outputs": [
    {
     "name": "stdout",
     "output_type": "stream",
     "text": [
      "1 2 4 7 12 14 "
     ]
    }
   ],
   "source": [
    "in_order(bst.root)"
   ]
  },
  {
   "cell_type": "markdown",
   "metadata": {},
   "source": [
    "### Preorder (Recursive)"
   ]
  },
  {
   "cell_type": "code",
   "execution_count": 7,
   "metadata": {},
   "outputs": [],
   "source": [
    "def pre_order(root):\n",
    "    if root:\n",
    "        print(root.data, end=' ')\n",
    "        pre_order(root.left)\n",
    "        pre_order(root.right)"
   ]
  },
  {
   "cell_type": "code",
   "execution_count": 8,
   "metadata": {},
   "outputs": [
    {
     "name": "stdout",
     "output_type": "stream",
     "text": [
      "12 1 2 4 7 14 "
     ]
    }
   ],
   "source": [
    "pre_order(bst.root)"
   ]
  },
  {
   "cell_type": "markdown",
   "metadata": {},
   "source": [
    "### Postorder (Recursive)"
   ]
  },
  {
   "cell_type": "code",
   "execution_count": 9,
   "metadata": {},
   "outputs": [],
   "source": [
    "def post_order(root):\n",
    "    if root:\n",
    "        post_order(root.left)\n",
    "        post_order(root.right)\n",
    "        print(root.data, end=' ')"
   ]
  },
  {
   "cell_type": "code",
   "execution_count": 10,
   "metadata": {},
   "outputs": [
    {
     "name": "stdout",
     "output_type": "stream",
     "text": [
      "7 4 2 1 14 12 "
     ]
    }
   ],
   "source": [
    "post_order(bst.root)"
   ]
  },
  {
   "cell_type": "markdown",
   "metadata": {},
   "source": [
    "### Level Order using Queue"
   ]
  },
  {
   "cell_type": "code",
   "execution_count": 11,
   "metadata": {},
   "outputs": [],
   "source": [
    "class Queue:\n",
    "    def __init__(self):\n",
    "        self.array = []\n",
    "        \n",
    "    def is_empty(self):\n",
    "        return (True if len(self.array) == 0 else False)\n",
    "    \n",
    "    def enqueue(self, x):\n",
    "        self.array.append(x)\n",
    "        \n",
    "    def dequeue(self):\n",
    "        if self.is_empty():\n",
    "            return None\n",
    "        \n",
    "        data = self.array[0]\n",
    "        del self.array[0]\n",
    "        \n",
    "        return data"
   ]
  },
  {
   "cell_type": "code",
   "execution_count": 12,
   "metadata": {},
   "outputs": [],
   "source": [
    "def level_order(root):\n",
    "    if not root:\n",
    "        return None\n",
    "    \n",
    "    q = Queue()\n",
    "    q.enqueue(root)\n",
    "    \n",
    "    while not q.is_empty():\n",
    "        temp = q.dequeue()\n",
    "        print(temp.data, end=' ')\n",
    "        if temp.left:\n",
    "            q.enqueue(temp.left)\n",
    "        if temp.right:\n",
    "            q.enqueue(temp.right)    "
   ]
  },
  {
   "cell_type": "code",
   "execution_count": 13,
   "metadata": {},
   "outputs": [
    {
     "name": "stdout",
     "output_type": "stream",
     "text": [
      "12 1 14 2 4 7 "
     ]
    }
   ],
   "source": [
    "level_order(bst.root)"
   ]
  },
  {
   "cell_type": "markdown",
   "metadata": {},
   "source": [
    "### Depth First Traversal using Stack"
   ]
  },
  {
   "cell_type": "markdown",
   "metadata": {},
   "source": [
    "In-order, Pre-order and Post-order traversals are examples of Depth First Traversal."
   ]
  },
  {
   "cell_type": "code",
   "execution_count": 14,
   "metadata": {},
   "outputs": [],
   "source": [
    "class Stack:\n",
    "    def __init__(self):\n",
    "        self.array = []\n",
    "        \n",
    "    def is_empty(self):\n",
    "        return (True if len(self.array) == 0 else False)\n",
    "    \n",
    "    def push(self, x):\n",
    "        self.array.append(x)\n",
    "        \n",
    "    def pop(self):\n",
    "        return (None if self.is_empty() else self.array.pop())"
   ]
  },
  {
   "cell_type": "code",
   "execution_count": 15,
   "metadata": {},
   "outputs": [],
   "source": [
    "def dft(root):\n",
    "    if not root:\n",
    "        return None\n",
    "    \n",
    "    s = Stack()\n",
    "    s.push(root)\n",
    "    \n",
    "    while not s.is_empty():\n",
    "        temp = s.pop()\n",
    "        print(temp.data, end=' ')\n",
    "        if temp.right:\n",
    "            s.push(temp.right)\n",
    "        if temp.left:\n",
    "            s.push(temp.left)"
   ]
  },
  {
   "cell_type": "code",
   "execution_count": 16,
   "metadata": {},
   "outputs": [
    {
     "name": "stdout",
     "output_type": "stream",
     "text": [
      "12 1 2 4 7 14 "
     ]
    }
   ],
   "source": [
    "dft(bst.root)"
   ]
  },
  {
   "cell_type": "markdown",
   "metadata": {},
   "source": [
    "### Breadth First Traversal using Queue"
   ]
  },
  {
   "cell_type": "markdown",
   "metadata": {},
   "source": [
    "This is similar to level order traversal"
   ]
  },
  {
   "cell_type": "code",
   "execution_count": 17,
   "metadata": {},
   "outputs": [],
   "source": [
    "def bft(root):\n",
    "    if not root:\n",
    "        return None\n",
    "    \n",
    "    q = Queue()\n",
    "    q.enqueue(root)\n",
    "    \n",
    "    while not q.is_empty():\n",
    "        temp = q.dequeue()\n",
    "        print(temp.data, end=' ')\n",
    "        if temp.left:\n",
    "            q.enqueue(temp.left)\n",
    "        if temp.right:\n",
    "            q.enqueue(temp.right) "
   ]
  },
  {
   "cell_type": "code",
   "execution_count": 18,
   "metadata": {},
   "outputs": [
    {
     "name": "stdout",
     "output_type": "stream",
     "text": [
      "12 1 14 2 4 7 "
     ]
    }
   ],
   "source": [
    "bft(bst.root)"
   ]
  },
  {
   "cell_type": "markdown",
   "metadata": {},
   "source": [
    "## Other Operations"
   ]
  },
  {
   "cell_type": "markdown",
   "metadata": {},
   "source": [
    "### Maximum and Minimum elements in a binary search tree"
   ]
  },
  {
   "cell_type": "code",
   "execution_count": 19,
   "metadata": {},
   "outputs": [
    {
     "name": "stdout",
     "output_type": "stream",
     "text": [
      "Max: 14, Min: 1\n"
     ]
    }
   ],
   "source": [
    "max_ = bst.max_(bst.root)\n",
    "min_ = bst.min_(bst.root)\n",
    "\n",
    "print('Max: {}, Min: {}'.format(max_.data, min_.data))"
   ]
  },
  {
   "cell_type": "markdown",
   "metadata": {},
   "source": [
    "### Delete a node"
   ]
  },
  {
   "cell_type": "code",
   "execution_count": 20,
   "metadata": {},
   "outputs": [
    {
     "name": "stdout",
     "output_type": "stream",
     "text": [
      "1 2 4 7 12 14 "
     ]
    }
   ],
   "source": [
    "# Tree before deletion\n",
    "in_order(bst.root)"
   ]
  },
  {
   "cell_type": "code",
   "execution_count": 21,
   "metadata": {},
   "outputs": [
    {
     "data": {
      "text/plain": [
       "<__main__.Node at 0x7fac3c5859b0>"
      ]
     },
     "execution_count": 21,
     "metadata": {},
     "output_type": "execute_result"
    }
   ],
   "source": [
    "bst.delete(bst.root, 14)"
   ]
  },
  {
   "cell_type": "code",
   "execution_count": 22,
   "metadata": {},
   "outputs": [
    {
     "name": "stdout",
     "output_type": "stream",
     "text": [
      "1 2 4 7 12 "
     ]
    }
   ],
   "source": [
    "# Tree after deletion\n",
    "in_order(bst.root)"
   ]
  }
 ],
 "metadata": {
  "kernelspec": {
   "display_name": "Python 3",
   "language": "python",
   "name": "python3"
  },
  "language_info": {
   "codemirror_mode": {
    "name": "ipython",
    "version": 3
   },
   "file_extension": ".py",
   "mimetype": "text/x-python",
   "name": "python",
   "nbconvert_exporter": "python",
   "pygments_lexer": "ipython3",
   "version": "3.6.5"
  }
 },
 "nbformat": 4,
 "nbformat_minor": 2
}
